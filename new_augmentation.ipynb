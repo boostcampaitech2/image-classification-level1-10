{
 "cells": [
  {
   "cell_type": "markdown",
   "metadata": {},
   "source": [
    "# Library"
   ]
  },
  {
   "cell_type": "code",
   "execution_count": 2,
   "metadata": {},
   "outputs": [],
   "source": [
    "import os\n",
    "import pandas as pd\n",
    "from PIL import Image\n",
    "from torchvision import transforms\n",
    "from torchvision.transforms import Resize, ToTensor, Normalize\n",
    "import shutil\n",
    "import glob"
   ]
  },
  {
   "cell_type": "markdown",
   "metadata": {},
   "source": [
    "# 경로설정"
   ]
  },
  {
   "cell_type": "code",
   "execution_count": 3,
   "metadata": {},
   "outputs": [],
   "source": [
    "train_dir = '/opt/ml/input/data/train'\n",
    "train_images_dir = train_dir + '/images/'\n",
    "train_label = train_dir + '/train.csv'\n",
    "new_train_dir = '/opt/ml/input/data/train/new_images'\n",
    "test_folder = '/opt/ml/input/data/train/test_folder'"
   ]
  },
  {
   "cell_type": "markdown",
   "metadata": {},
   "source": [
    "# test용 폴더 생성(기존 폴더 복사)"
   ]
  },
  {
   "cell_type": "code",
   "execution_count": 6,
   "metadata": {},
   "outputs": [
    {
     "data": {
      "text/plain": "'/opt/ml/input/data/train/test_folder'"
     },
     "execution_count": 6,
     "metadata": {},
     "output_type": "execute_result"
    }
   ],
   "source": [
    "# shutil.copytree(train_images_dir, test_folder)"
   ]
  },
  {
   "cell_type": "markdown",
   "metadata": {},
   "source": [
    "# undersampling label만들기"
   ]
  },
  {
   "cell_type": "code",
   "execution_count": 22,
   "metadata": {},
   "outputs": [],
   "source": [
    "pd_train = pd.read_csv(train_label)\n",
    "train_path_list = [ train_images_dir+'/'+x +'/' for x in pd_train['path']]\n",
    "\n",
    "def select_data_list(path_list):\n",
    "    count = 0\n",
    "    target_data_list = []\n",
    "    target_label_list = []\n",
    "    target_mask_label_list = []\n",
    "    for data_path in path_list:\n",
    "        temp_mask_label = []\n",
    "        temp_mask_label.append(*glob.glob(data_path+'mask1.*'))\n",
    "        temp_mask_label.append(*glob.glob(data_path+'mask2.*'))\n",
    "        temp_mask_label.append(*glob.glob(data_path+'mask3.*'))\n",
    "        temp_mask_label.append(*glob.glob(data_path+'normal.*'))\n",
    "        temp_mask_label.append(*glob.glob(data_path+'incorrect_mask.*'))\n",
    "        target_data_list.append(temp_mask_label)\n",
    "        temp_train_label = data_path.split('_')\n",
    "        # temp_mask_label = [mask_data for mask_data in os.listdir(data_path) if not '_' in mask_data or ('incorrect' in mask_data and not '_incorrect' in mask_data )]\n",
    "        target_mask_label_list = [0 if 'incorrect_mask' in mask_data else 1 if 'mask' in mask_data else 2 for mask_data in temp_mask_label]\n",
    "        target_label_list.append([temp_train_label[1],temp_train_label[3].rstrip('/')])\n",
    "    return [target_data_list, target_mask_label_list, target_label_list]\n",
    "\n",
    "undersampling_list = select_data_list(train_path_list)\n",
    "# print(undersampling_list[2])"
   ]
  },
  {
   "cell_type": "code",
   "execution_count": 23,
   "metadata": {},
   "outputs": [],
   "source": [
    "def check_mask(data):\n",
    "    result = 1 if data == 1 else 0 if data == 0 else 2\n",
    "    return result\n",
    "\n",
    "def check_gender(gender):\n",
    "    result = 1 if 'female' in gender else 0\n",
    "    return result\n",
    "\n",
    "def check_age(age):\n",
    "    result_number = 0 if age < 30 else 2 if age >= 60 else 1\n",
    "    return result_number\n",
    "\n",
    "def label_classification(data, gender, age):\n",
    "    result = 0\n",
    "    # mask : wear\n",
    "    if data == 1 and gender == 0 and age == 0:\n",
    "        result = 0\n",
    "    elif data == 1 and gender == 0 and age == 1:\n",
    "        result = 1\n",
    "    elif data == 1 and gender == 0 and age == 2:\n",
    "        result = 2\n",
    "    elif data == 1 and gender == 1 and age == 0:\n",
    "        result = 3\n",
    "    elif data == 1 and gender == 1 and age == 1:\n",
    "        result = 4\n",
    "    elif data == 1 and gender == 1 and age == 2:\n",
    "        result = 5\n",
    "    # mask : incorrect\n",
    "    elif data == 0 and gender == 0 and age == 0:\n",
    "        result = 6\n",
    "    elif data == 0 and gender == 0 and age == 1:\n",
    "        result = 7\n",
    "    elif data == 0 and gender == 0 and age == 2:\n",
    "        result = 8\n",
    "    if data == 0 and gender == 1 and age == 0:\n",
    "        result = 9\n",
    "    elif data == 0 and gender == 1 and age == 1:\n",
    "        result = 10\n",
    "    elif data == 0 and gender == 1 and age == 2:\n",
    "        result = 11\n",
    "    # mask : not wear\n",
    "    elif data == 2 and gender == 0 and age == 0:\n",
    "        result = 12\n",
    "    elif data == 2 and gender == 0 and age == 1:\n",
    "        result = 13\n",
    "    elif data == 2 and gender == 0 and age == 2:\n",
    "        result = 14\n",
    "    elif data == 2 and gender == 1 and age == 0:\n",
    "        result = 15\n",
    "    elif data == 2 and gender == 1 and age == 1:\n",
    "        result = 16\n",
    "    elif data == 2 and gender == 1 and age == 2:\n",
    "        result = 17\n",
    "    return result\n",
    "\n",
    "\n",
    "\n",
    "data_path, mask_list, label_list = undersampling_list\n",
    "# print(mask[0:7],label[0])\n",
    "index = 0\n",
    "new_label = []\n",
    "count = 0\n",
    "for label in label_list:\n",
    "    gender, age = label\n",
    "    gender_state = check_gender(gender)\n",
    "    age_state = check_age(int(age))\n",
    "    index *= count\n",
    "    count += 1\n",
    "    mask = mask_list[index:index+5]\n",
    "    for target_mask in mask:\n",
    "        mask_state = check_mask(target_mask)\n",
    "        result_class = label_classification(mask_state, gender_state, age_state)\n",
    "        # print(mask_state,gender_state,age_state,result_class)\n",
    "        new_label.append(result_class)\n",
    "\n",
    "new_data_path = [target_path for in_target_path in data_path for target_path in in_target_path ]\n",
    "col_name = ['data_path', 'label']\n",
    "new_info = []\n",
    "series_data_path = pd.Series(new_data_path, name=col_name[0])\n",
    "series_new_label = pd.Series(new_label, name=col_name[1])\n",
    "df_new_info = pd.concat([series_data_path, series_new_label],axis=1)\n",
    "df_new_info.to_csv('/opt/ml/undersampling_label.csv',mode='w')\n",
    "\n",
    "# series_new_label.head(14)\n"
   ]
  },
  {
   "cell_type": "markdown",
   "metadata": {},
   "source": [
    "# wear 1장, normal 1장, incorret 1장 선택해서 list만들기"
   ]
  },
  {
   "cell_type": "code",
   "execution_count": 95,
   "metadata": {},
   "outputs": [
    {
     "name": "stdout",
     "output_type": "stream",
     "text": [
      "['/opt/ml/input/data/train/test_folder/000001_female_Asian_45/mask1.jpg', '/opt/ml/input/data/train/test_folder/000001_female_Asian_45/normal.jpg', '/opt/ml/input/data/train/test_folder/000001_female_Asian_45/incorrect_mask.jpg']\n"
     ]
    }
   ],
   "source": [
    "pd_train = pd.read_csv(train_label)\n",
    "train_path_list = [ test_folder+'/'+x +'/' for x in pd_train['path']]\n",
    "def create_data_list(path_list):\n",
    "    target_data_list = []\n",
    "    for data_path in path_list:\n",
    "        temp_list = os.listdir(data_path)\n",
    "        temp_list = [data for data in temp_list if (not '_' in data or 'incorrect' in data) and ('mask1' in data or 'normal' in data or ('incorrect' in data and not '_incorrect' in data )) ]\n",
    "        target_data_list.append(temp_list)\n",
    "    return target_data_list \n",
    "\n",
    "def delete_data_list(path_list):\n",
    "    count = 0\n",
    "    for data_path in path_list:\n",
    "        target_data_list = []\n",
    "        target_data_list.append(*glob.glob(data_path+'mask1.*'))\n",
    "        target_data_list.append(*glob.glob(data_path+'normal.*'))\n",
    "        target_data_list.append(*glob.glob(data_path+'incorrect_mask.*'))\n",
    "        \n",
    "        \n",
    "        \n",
    "    # return target_data_list \n",
    "\n",
    "target_list = create_data_list(train_path_list)\n",
    "delete_data_list(train_path_list)\n",
    "# print(target_list)\n",
    "# pd_target_list = pd.DataFrame(target_list, columns=['new_train_path'])\n",
    "# print(pd_target_list)"
   ]
  },
  {
   "cell_type": "markdown",
   "metadata": {},
   "source": [
    "# 이미지 좌우 10도 회전해서 생성"
   ]
  },
  {
   "cell_type": "code",
   "execution_count": 76,
   "metadata": {},
   "outputs": [],
   "source": [
    "def get_transforms_img(im):\n",
    "    ######################################TODO######################################\n",
    "    im = transforms.RandomRotation(30, fill=255)(im)\n",
    "    ################################################################################\n",
    "    return im"
   ]
  },
  {
   "cell_type": "code",
   "execution_count": 86,
   "metadata": {},
   "outputs": [],
   "source": [
    "\n",
    "for path, file_name in \n",
    "test_image = Image.open(target_list[0][0])\n",
    "im = get_transforms_img(test_image)\n",
    "name, name2 = target_list[0][0].split('.')\n",
    "# im.save(f'./{name}_rotate1.{name2}')"
   ]
  },
  {
   "cell_type": "code",
   "execution_count": 87,
   "metadata": {},
   "outputs": [
    {
     "name": "stdout",
     "output_type": "stream",
     "text": [
      "/opt/ml/input/data/train/test_folder/006959_male_Asian_19\n"
     ]
    }
   ],
   "source": [
    "!pwd"
   ]
  }
 ],
 "metadata": {
  "kernelspec": {
   "display_name": "Python 3 (ipykernel)",
   "language": "python",
   "name": "python3"
  },
  "language_info": {
   "codemirror_mode": {
    "name": "ipython",
    "version": 3
   },
   "file_extension": ".py",
   "mimetype": "text/x-python",
   "name": "python",
   "nbconvert_exporter": "python",
   "pygments_lexer": "ipython3",
   "version": "3.8.5"
  },
  "orig_nbformat": 2
 },
 "nbformat": 4,
 "nbformat_minor": 2
}
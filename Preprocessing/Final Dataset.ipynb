{
 "cells": [
  {
   "cell_type": "code",
   "execution_count": 1,
   "id": "55f7c7fb-c729-4d68-9c56-83c2d99c11cb",
   "metadata": {},
   "outputs": [],
   "source": [
    "import pandas as pd\n",
    "from pathlib import Path\n",
    "from tqdm import tqdm"
   ]
  },
  {
   "cell_type": "code",
   "execution_count": 2,
   "id": "022888eb-39de-425b-ae4d-0122fa601dff",
   "metadata": {},
   "outputs": [],
   "source": [
    "MAIN_PATH = '/opt/ml/input/data'\n",
    "TRAIN_DATA_PATH = 'train'\n",
    "TRAIN_IMAGE_PATH = f'{MAIN_PATH}/{TRAIN_DATA_PATH}/images'\n",
    "\n",
    "df = pd.read_csv(f'{MAIN_PATH}/{TRAIN_DATA_PATH}/train.csv')"
   ]
  },
  {
   "cell_type": "code",
   "execution_count": 3,
   "id": "e0d0f2f8-6c5f-4f04-9b4d-6b73fa8fc717",
   "metadata": {},
   "outputs": [
    {
     "name": "stderr",
     "output_type": "stream",
     "text": [
      "100%|██████████| 2700/2700 [00:00<00:00, 3799.08it/s]\n"
     ]
    },
    {
     "data": {
      "text/html": [
       "<div>\n",
       "<style scoped>\n",
       "    .dataframe tbody tr th:only-of-type {\n",
       "        vertical-align: middle;\n",
       "    }\n",
       "\n",
       "    .dataframe tbody tr th {\n",
       "        vertical-align: top;\n",
       "    }\n",
       "\n",
       "    .dataframe thead th {\n",
       "        text-align: right;\n",
       "    }\n",
       "</style>\n",
       "<table border=\"1\" class=\"dataframe\">\n",
       "  <thead>\n",
       "    <tr style=\"text-align: right;\">\n",
       "      <th></th>\n",
       "      <th>id</th>\n",
       "      <th>path</th>\n",
       "      <th>age</th>\n",
       "      <th>gender</th>\n",
       "      <th>stem</th>\n",
       "      <th>img_path</th>\n",
       "    </tr>\n",
       "  </thead>\n",
       "  <tbody>\n",
       "    <tr>\n",
       "      <th>0</th>\n",
       "      <td>000001</td>\n",
       "      <td>000001_female_Asian_45</td>\n",
       "      <td>45</td>\n",
       "      <td>female</td>\n",
       "      <td>mask1</td>\n",
       "      <td>/opt/ml/input/data/train/images/000001_female_...</td>\n",
       "    </tr>\n",
       "    <tr>\n",
       "      <th>1</th>\n",
       "      <td>000001</td>\n",
       "      <td>000001_female_Asian_45</td>\n",
       "      <td>45</td>\n",
       "      <td>female</td>\n",
       "      <td>mask2</td>\n",
       "      <td>/opt/ml/input/data/train/images/000001_female_...</td>\n",
       "    </tr>\n",
       "    <tr>\n",
       "      <th>2</th>\n",
       "      <td>000001</td>\n",
       "      <td>000001_female_Asian_45</td>\n",
       "      <td>45</td>\n",
       "      <td>female</td>\n",
       "      <td>mask4</td>\n",
       "      <td>/opt/ml/input/data/train/images/000001_female_...</td>\n",
       "    </tr>\n",
       "    <tr>\n",
       "      <th>3</th>\n",
       "      <td>000001</td>\n",
       "      <td>000001_female_Asian_45</td>\n",
       "      <td>45</td>\n",
       "      <td>female</td>\n",
       "      <td>mask3</td>\n",
       "      <td>/opt/ml/input/data/train/images/000001_female_...</td>\n",
       "    </tr>\n",
       "    <tr>\n",
       "      <th>4</th>\n",
       "      <td>000001</td>\n",
       "      <td>000001_female_Asian_45</td>\n",
       "      <td>45</td>\n",
       "      <td>female</td>\n",
       "      <td>incorrect_mask</td>\n",
       "      <td>/opt/ml/input/data/train/images/000001_female_...</td>\n",
       "    </tr>\n",
       "  </tbody>\n",
       "</table>\n",
       "</div>"
      ],
      "text/plain": [
       "       id                    path  age  gender            stem  \\\n",
       "0  000001  000001_female_Asian_45   45  female           mask1   \n",
       "1  000001  000001_female_Asian_45   45  female           mask2   \n",
       "2  000001  000001_female_Asian_45   45  female           mask4   \n",
       "3  000001  000001_female_Asian_45   45  female           mask3   \n",
       "4  000001  000001_female_Asian_45   45  female  incorrect_mask   \n",
       "\n",
       "                                            img_path  \n",
       "0  /opt/ml/input/data/train/images/000001_female_...  \n",
       "1  /opt/ml/input/data/train/images/000001_female_...  \n",
       "2  /opt/ml/input/data/train/images/000001_female_...  \n",
       "3  /opt/ml/input/data/train/images/000001_female_...  \n",
       "4  /opt/ml/input/data/train/images/000001_female_...  "
      ]
     },
     "execution_count": 3,
     "metadata": {},
     "output_type": "execute_result"
    }
   ],
   "source": [
    "new_data_list = []\n",
    "for idx in tqdm(range(len(df))) :\n",
    "    _path = df['path'].iloc[idx]\n",
    "    _gender = df['gender'].iloc[idx]\n",
    "    _age = df['age'].iloc[idx]\n",
    "    _id = df['id'].iloc[idx]\n",
    "    \n",
    "    for img_name in Path(f'{TRAIN_IMAGE_PATH}/{_path}').iterdir() : # 각 dir의 이미지를 generate로 받음\n",
    "        img_stem = img_name.stem\n",
    "        if not img_stem.startswith('.') :\n",
    "            new_data_list.append([_id,_path,_age,_gender,img_stem,img_name.__str__()])\n",
    "    if len(new_data_list) % 7 != 0 :\n",
    "        break\n",
    "    \n",
    "df = pd.DataFrame(new_data_list)\n",
    "df.columns = ['id', 'path', 'age', 'gender', 'stem', 'img_path']\n",
    "df.head()"
   ]
  },
  {
   "cell_type": "code",
   "execution_count": 4,
   "id": "e0c5bbfd-16d7-461a-895f-0a2cde26bfdd",
   "metadata": {},
   "outputs": [
    {
     "data": {
      "text/plain": [
       "18900"
      ]
     },
     "execution_count": 4,
     "metadata": {},
     "output_type": "execute_result"
    }
   ],
   "source": [
    "len(df)"
   ]
  },
  {
   "cell_type": "code",
   "execution_count": 55,
   "id": "4b1d15ce-8069-4f16-aabb-01f9fb1f9791",
   "metadata": {},
   "outputs": [],
   "source": [
    "df.to_csv('/opt/ml/code/data/전체.csv', index = False)"
   ]
  }
 ],
 "metadata": {
  "kernelspec": {
   "display_name": "Python 3 (ipykernel)",
   "language": "python",
   "name": "python3"
  },
  "language_info": {
   "codemirror_mode": {
    "name": "ipython",
    "version": 3
   },
   "file_extension": ".py",
   "mimetype": "text/x-python",
   "name": "python",
   "nbconvert_exporter": "python",
   "pygments_lexer": "ipython3",
   "version": "3.8.5"
  }
 },
 "nbformat": 4,
 "nbformat_minor": 5
}

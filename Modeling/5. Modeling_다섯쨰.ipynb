{
 "cells": [
  {
   "cell_type": "code",
   "execution_count": 1,
   "id": "51d5b863-281b-48df-a1c3-e6eb7ef998a3",
   "metadata": {},
   "outputs": [],
   "source": [
    "import pandas as pd\n",
    "import numpy as np\n",
    "import os\n",
    "import matplotlib.pyplot as plt\n",
    "import matplotlib as mpl\n",
    "import math\n",
    "\n",
    "from glob import glob\n",
    "from PIL import Image\n",
    "from tqdm import tqdm, tqdm_notebook\n",
    "from sklearn.model_selection import train_test_split\n",
    "from sklearn.model_selection import StratifiedKFold\n",
    "from sklearn.metrics import f1_score, accuracy_score\n",
    "from time import sleep\n",
    "\n",
    "import warnings\n",
    "warnings.filterwarnings('ignore')"
   ]
  },
  {
   "cell_type": "code",
   "execution_count": 2,
   "id": "1022001c-571d-4bea-bc97-03d3c9dabb6b",
   "metadata": {},
   "outputs": [],
   "source": [
    "import torch\n",
    "import torchvision\n",
    "import torch.nn as nn\n",
    "import torch.optim as optim\n",
    "import torch.nn.functional as F\n",
    "\n",
    "from torchvision import transforms, utils\n",
    "from torchvision.transforms import Resize, ToTensor, Normalize\n",
    "from torch.utils.data import Dataset, DataLoader, random_split, SubsetRandomSampler, WeightedRandomSampler"
   ]
  },
  {
   "cell_type": "markdown",
   "id": "ef9d39a9-61ce-4963-9b63-a4221f04fc6c",
   "metadata": {
    "tags": []
   },
   "source": [
    "## Make Label"
   ]
  },
  {
   "cell_type": "code",
   "execution_count": 4,
   "id": "8f6b5a51-e5df-47b3-8ba5-e113e3dd94ce",
   "metadata": {},
   "outputs": [
    {
     "data": {
      "text/html": [
       "<div>\n",
       "<style scoped>\n",
       "    .dataframe tbody tr th:only-of-type {\n",
       "        vertical-align: middle;\n",
       "    }\n",
       "\n",
       "    .dataframe tbody tr th {\n",
       "        vertical-align: top;\n",
       "    }\n",
       "\n",
       "    .dataframe thead th {\n",
       "        text-align: right;\n",
       "    }\n",
       "</style>\n",
       "<table border=\"1\" class=\"dataframe\">\n",
       "  <thead>\n",
       "    <tr style=\"text-align: right;\">\n",
       "      <th></th>\n",
       "      <th>id</th>\n",
       "      <th>path</th>\n",
       "      <th>age</th>\n",
       "      <th>gender</th>\n",
       "      <th>stem</th>\n",
       "      <th>img_path</th>\n",
       "      <th>gender_issue</th>\n",
       "      <th>mask_issue</th>\n",
       "    </tr>\n",
       "  </thead>\n",
       "  <tbody>\n",
       "    <tr>\n",
       "      <th>0</th>\n",
       "      <td>000001</td>\n",
       "      <td>000001_female_Asian_45</td>\n",
       "      <td>45</td>\n",
       "      <td>female</td>\n",
       "      <td>mask1</td>\n",
       "      <td>/opt/ml/input/data/train/images/000001_female_...</td>\n",
       "      <td>False</td>\n",
       "      <td>False</td>\n",
       "    </tr>\n",
       "    <tr>\n",
       "      <th>1</th>\n",
       "      <td>000001</td>\n",
       "      <td>000001_female_Asian_45</td>\n",
       "      <td>45</td>\n",
       "      <td>female</td>\n",
       "      <td>mask2</td>\n",
       "      <td>/opt/ml/input/data/train/images/000001_female_...</td>\n",
       "      <td>False</td>\n",
       "      <td>False</td>\n",
       "    </tr>\n",
       "    <tr>\n",
       "      <th>2</th>\n",
       "      <td>000001</td>\n",
       "      <td>000001_female_Asian_45</td>\n",
       "      <td>45</td>\n",
       "      <td>female</td>\n",
       "      <td>mask4</td>\n",
       "      <td>/opt/ml/input/data/train/images/000001_female_...</td>\n",
       "      <td>False</td>\n",
       "      <td>False</td>\n",
       "    </tr>\n",
       "    <tr>\n",
       "      <th>3</th>\n",
       "      <td>000001</td>\n",
       "      <td>000001_female_Asian_45</td>\n",
       "      <td>45</td>\n",
       "      <td>female</td>\n",
       "      <td>mask3</td>\n",
       "      <td>/opt/ml/input/data/train/images/000001_female_...</td>\n",
       "      <td>False</td>\n",
       "      <td>False</td>\n",
       "    </tr>\n",
       "    <tr>\n",
       "      <th>4</th>\n",
       "      <td>000001</td>\n",
       "      <td>000001_female_Asian_45</td>\n",
       "      <td>45</td>\n",
       "      <td>female</td>\n",
       "      <td>incorrect_mask</td>\n",
       "      <td>/opt/ml/input/data/train/images/000001_female_...</td>\n",
       "      <td>False</td>\n",
       "      <td>False</td>\n",
       "    </tr>\n",
       "  </tbody>\n",
       "</table>\n",
       "</div>"
      ],
      "text/plain": [
       "       id                    path  age  gender            stem  \\\n",
       "0  000001  000001_female_Asian_45   45  female           mask1   \n",
       "1  000001  000001_female_Asian_45   45  female           mask2   \n",
       "2  000001  000001_female_Asian_45   45  female           mask4   \n",
       "3  000001  000001_female_Asian_45   45  female           mask3   \n",
       "4  000001  000001_female_Asian_45   45  female  incorrect_mask   \n",
       "\n",
       "                                            img_path  gender_issue  mask_issue  \n",
       "0  /opt/ml/input/data/train/images/000001_female_...         False       False  \n",
       "1  /opt/ml/input/data/train/images/000001_female_...         False       False  \n",
       "2  /opt/ml/input/data/train/images/000001_female_...         False       False  \n",
       "3  /opt/ml/input/data/train/images/000001_female_...         False       False  \n",
       "4  /opt/ml/input/data/train/images/000001_female_...         False       False  "
      ]
     },
     "execution_count": 4,
     "metadata": {},
     "output_type": "execute_result"
    }
   ],
   "source": [
    "df = pd.read_csv('/opt/ml/code/data/Final.csv')\n",
    "df.head()"
   ]
  },
  {
   "cell_type": "code",
   "execution_count": 5,
   "id": "786cc7d2-f4dd-47ef-b60e-7c1014bd7edf",
   "metadata": {},
   "outputs": [],
   "source": [
    "df['label'] = ''\n",
    "for i in range(len(df)) :\n",
    "    label = 0\n",
    "    # 나이를 기준으로 점수\n",
    "    if df['age'][i] < 30 :\n",
    "        label = 0\n",
    "    elif 30 <= df['age'][i] < 60 :\n",
    "        label = 1\n",
    "    elif 60 <= df['age'][i] :\n",
    "        label = 2\n",
    "    \n",
    "    # 여자일 경우 남자의 label +3\n",
    "    if df['gender'][i] == 'female' :\n",
    "        label += 3\n",
    "    \n",
    "    # mask상태가 Not wear일 경우 + 12, Incorrect일 경우 + 6\n",
    "    if df['stem'][i] == 'normal' :\n",
    "        label += 12\n",
    "    elif df['stem'][i] == 'incorrect_mask' :\n",
    "        label += 6\n",
    "    \n",
    "    df['label'][i] = label"
   ]
  },
  {
   "cell_type": "code",
   "execution_count": 6,
   "id": "b63a8097-52d6-4928-a438-0c8443462145",
   "metadata": {},
   "outputs": [
    {
     "data": {
      "text/html": [
       "<div>\n",
       "<style scoped>\n",
       "    .dataframe tbody tr th:only-of-type {\n",
       "        vertical-align: middle;\n",
       "    }\n",
       "\n",
       "    .dataframe tbody tr th {\n",
       "        vertical-align: top;\n",
       "    }\n",
       "\n",
       "    .dataframe thead th {\n",
       "        text-align: right;\n",
       "    }\n",
       "</style>\n",
       "<table border=\"1\" class=\"dataframe\">\n",
       "  <thead>\n",
       "    <tr style=\"text-align: right;\">\n",
       "      <th></th>\n",
       "      <th>id</th>\n",
       "      <th>path</th>\n",
       "      <th>age</th>\n",
       "      <th>gender</th>\n",
       "      <th>stem</th>\n",
       "      <th>img_path</th>\n",
       "      <th>gender_issue</th>\n",
       "      <th>mask_issue</th>\n",
       "      <th>label</th>\n",
       "    </tr>\n",
       "  </thead>\n",
       "  <tbody>\n",
       "    <tr>\n",
       "      <th>2471</th>\n",
       "      <td>000799</td>\n",
       "      <td>000799_female_Asian_51</td>\n",
       "      <td>51</td>\n",
       "      <td>female</td>\n",
       "      <td>mask1</td>\n",
       "      <td>/opt/ml/input/data/train/images/000799_female_...</td>\n",
       "      <td>False</td>\n",
       "      <td>False</td>\n",
       "      <td>4</td>\n",
       "    </tr>\n",
       "    <tr>\n",
       "      <th>1289</th>\n",
       "      <td>000566</td>\n",
       "      <td>000566_male_Asian_58</td>\n",
       "      <td>58</td>\n",
       "      <td>male</td>\n",
       "      <td>mask2</td>\n",
       "      <td>/opt/ml/input/data/train/images/000566_male_As...</td>\n",
       "      <td>False</td>\n",
       "      <td>False</td>\n",
       "      <td>1</td>\n",
       "    </tr>\n",
       "    <tr>\n",
       "      <th>1907</th>\n",
       "      <td>000684</td>\n",
       "      <td>000684_female_Asian_56</td>\n",
       "      <td>56</td>\n",
       "      <td>female</td>\n",
       "      <td>mask3</td>\n",
       "      <td>/opt/ml/input/data/train/images/000684_female_...</td>\n",
       "      <td>False</td>\n",
       "      <td>False</td>\n",
       "      <td>4</td>\n",
       "    </tr>\n",
       "    <tr>\n",
       "      <th>9165</th>\n",
       "      <td>003328</td>\n",
       "      <td>003328_female_Asian_19</td>\n",
       "      <td>19</td>\n",
       "      <td>female</td>\n",
       "      <td>mask4</td>\n",
       "      <td>/opt/ml/input/data/train/images/003328_female_...</td>\n",
       "      <td>False</td>\n",
       "      <td>False</td>\n",
       "      <td>3</td>\n",
       "    </tr>\n",
       "    <tr>\n",
       "      <th>851</th>\n",
       "      <td>000304</td>\n",
       "      <td>000304_female_Asian_51</td>\n",
       "      <td>51</td>\n",
       "      <td>female</td>\n",
       "      <td>incorrect_mask</td>\n",
       "      <td>/opt/ml/input/data/train/images/000304_female_...</td>\n",
       "      <td>False</td>\n",
       "      <td>False</td>\n",
       "      <td>10</td>\n",
       "    </tr>\n",
       "    <tr>\n",
       "      <th>7379</th>\n",
       "      <td>001922</td>\n",
       "      <td>001922_male_Asian_42</td>\n",
       "      <td>42</td>\n",
       "      <td>male</td>\n",
       "      <td>mask2</td>\n",
       "      <td>/opt/ml/input/data/train/images/001922_male_As...</td>\n",
       "      <td>False</td>\n",
       "      <td>False</td>\n",
       "      <td>1</td>\n",
       "    </tr>\n",
       "    <tr>\n",
       "      <th>15839</th>\n",
       "      <td>006065</td>\n",
       "      <td>006065_female_Asian_19</td>\n",
       "      <td>19</td>\n",
       "      <td>female</td>\n",
       "      <td>normal</td>\n",
       "      <td>/opt/ml/input/data/train/images/006065_female_...</td>\n",
       "      <td>False</td>\n",
       "      <td>False</td>\n",
       "      <td>15</td>\n",
       "    </tr>\n",
       "    <tr>\n",
       "      <th>14446</th>\n",
       "      <td>005221</td>\n",
       "      <td>005221_male_Asian_21</td>\n",
       "      <td>21</td>\n",
       "      <td>male</td>\n",
       "      <td>mask5</td>\n",
       "      <td>/opt/ml/input/data/train/images/005221_male_As...</td>\n",
       "      <td>False</td>\n",
       "      <td>False</td>\n",
       "      <td>0</td>\n",
       "    </tr>\n",
       "    <tr>\n",
       "      <th>11187</th>\n",
       "      <td>003760</td>\n",
       "      <td>003760_female_Asian_52</td>\n",
       "      <td>52</td>\n",
       "      <td>female</td>\n",
       "      <td>mask2</td>\n",
       "      <td>/opt/ml/input/data/train/images/003760_female_...</td>\n",
       "      <td>False</td>\n",
       "      <td>False</td>\n",
       "      <td>4</td>\n",
       "    </tr>\n",
       "    <tr>\n",
       "      <th>1792</th>\n",
       "      <td>000661</td>\n",
       "      <td>000661_male_Asian_55</td>\n",
       "      <td>55</td>\n",
       "      <td>male</td>\n",
       "      <td>mask1</td>\n",
       "      <td>/opt/ml/input/data/train/images/000661_male_As...</td>\n",
       "      <td>False</td>\n",
       "      <td>False</td>\n",
       "      <td>1</td>\n",
       "    </tr>\n",
       "  </tbody>\n",
       "</table>\n",
       "</div>"
      ],
      "text/plain": [
       "           id                    path  age  gender            stem  \\\n",
       "2471   000799  000799_female_Asian_51   51  female           mask1   \n",
       "1289   000566    000566_male_Asian_58   58    male           mask2   \n",
       "1907   000684  000684_female_Asian_56   56  female           mask3   \n",
       "9165   003328  003328_female_Asian_19   19  female           mask4   \n",
       "851    000304  000304_female_Asian_51   51  female  incorrect_mask   \n",
       "7379   001922    001922_male_Asian_42   42    male           mask2   \n",
       "15839  006065  006065_female_Asian_19   19  female          normal   \n",
       "14446  005221    005221_male_Asian_21   21    male           mask5   \n",
       "11187  003760  003760_female_Asian_52   52  female           mask2   \n",
       "1792   000661    000661_male_Asian_55   55    male           mask1   \n",
       "\n",
       "                                                img_path  gender_issue  \\\n",
       "2471   /opt/ml/input/data/train/images/000799_female_...         False   \n",
       "1289   /opt/ml/input/data/train/images/000566_male_As...         False   \n",
       "1907   /opt/ml/input/data/train/images/000684_female_...         False   \n",
       "9165   /opt/ml/input/data/train/images/003328_female_...         False   \n",
       "851    /opt/ml/input/data/train/images/000304_female_...         False   \n",
       "7379   /opt/ml/input/data/train/images/001922_male_As...         False   \n",
       "15839  /opt/ml/input/data/train/images/006065_female_...         False   \n",
       "14446  /opt/ml/input/data/train/images/005221_male_As...         False   \n",
       "11187  /opt/ml/input/data/train/images/003760_female_...         False   \n",
       "1792   /opt/ml/input/data/train/images/000661_male_As...         False   \n",
       "\n",
       "       mask_issue label  \n",
       "2471        False     4  \n",
       "1289        False     1  \n",
       "1907        False     4  \n",
       "9165        False     3  \n",
       "851         False    10  \n",
       "7379        False     1  \n",
       "15839       False    15  \n",
       "14446       False     0  \n",
       "11187       False     4  \n",
       "1792        False     1  "
      ]
     },
     "execution_count": 6,
     "metadata": {},
     "output_type": "execute_result"
    }
   ],
   "source": [
    "df.sample(10)"
   ]
  },
  {
   "cell_type": "markdown",
   "id": "a04d3539-9893-490b-88a3-d8083276ed09",
   "metadata": {},
   "source": [
    "## Dataset Load"
   ]
  },
  {
   "cell_type": "code",
   "execution_count": 7,
   "id": "2b646f34-b295-43f8-85fa-6ae3478e46e3",
   "metadata": {},
   "outputs": [],
   "source": [
    "class MaskDataset(Dataset) :\n",
    "    def __init__(self, path_list, label_list, transform, train = True) :\n",
    "        self.train = train\n",
    "        if self.train :\n",
    "            self.X = []\n",
    "            self.y = []\n",
    "            for path, label in zip(path_list, label_list) :\n",
    "                image = Image.open(path)\n",
    "                self.X.append(image)\n",
    "                self.y.append(label)\n",
    "        else :\n",
    "            self.X = []\n",
    "            for path in path_list :\n",
    "                image = Image.open(path)\n",
    "                self.X.append(image)\n",
    "        \n",
    "        self.transform = transform\n",
    "        self._repr_indent = 4\n",
    "        if self.train :\n",
    "            self.classes = list(set(self.y))\n",
    "    \n",
    "    def __len__(self) :\n",
    "        len_dataset = len(self.X)\n",
    "        return len_dataset\n",
    "\n",
    "    def __getitem__(self, idx) :\n",
    "        X = self.X[idx]\n",
    "        X = self.transform(X)\n",
    "        if not self.train :\n",
    "            y = None\n",
    "        else :\n",
    "            y = self.y[idx]\n",
    "        return torch.tensor(X, dtype = torch.float), torch.tensor(y, dtype = torch.long)\n",
    "    \n",
    "    def __repr__(self) :\n",
    "        head = \"(PyTorch Practice) My Custom Dataset : MASK\"\n",
    "        num_data = self._repr_indent*\" \" + \"Number of datapoints : {}\".format(self.__len__())\n",
    "        \n",
    "        if self.train :\n",
    "            num_classes = self._repr_indent*\" \" + \"Number of classes {}\".format(len(self.classes))\n",
    "        else :\n",
    "            num_classes = self._repr_indent*\" \" + \"Number of classes None\"\n",
    "            \n",
    "        return '\\n'.join([head, num_data, num_classes])"
   ]
  },
  {
   "cell_type": "code",
   "execution_count": 8,
   "id": "4888f394-2051-464c-a424-47ef87896ed2",
   "metadata": {},
   "outputs": [],
   "source": [
    "data_path = df['img_path']\n",
    "target = list(df['label'])"
   ]
  },
  {
   "cell_type": "markdown",
   "id": "245eca63-6041-4d15-95c4-c910037c12ed",
   "metadata": {},
   "source": [
    "### ResNet 학습"
   ]
  },
  {
   "cell_type": "code",
   "execution_count": 12,
   "id": "e6ca194e-256e-462a-8faa-79c4ff596ed0",
   "metadata": {},
   "outputs": [],
   "source": [
    "# Resnet transfer learniong\n",
    "model = torchvision.models.resnet18(pretrained=True)\n",
    "for param in model.parameters() : # frozon\n",
    "    param.requires_grad = False\n",
    "    \n",
    "MASK_CLASS_NUM = 18\n",
    "model.fc = torch.nn.Linear(in_features = 512, out_features = 128, bias = True)\n",
    "model.fc.weight.requires_grad = True\n",
    "torch.nn.init.xavier_uniform_(model.fc.weight)\n",
    "stdv = 1.0 / np.sqrt(model.fc.in_features)\n",
    "model.fc.bias.data.uniform_(-stdv,stdv)\n",
    "\n",
    "model.relu1 = torch.nn.ReLU(inplace = True)\n",
    "model.drop1 = torch.nn.Dropout(p = 0.2)\n",
    "model.fc2 = torch.nn.Linear(128, 32, bias = True)\n",
    "model.relu2 = torch.nn.ReLU(inplace = True)\n",
    "model.drop2 = torch.nn.Dropout(p = 0.2)\n",
    "model.fc3 = torch.nn.Linear(32, 18, bias = True)"
   ]
  },
  {
   "cell_type": "code",
   "execution_count": 13,
   "id": "f94bff33-a41e-4d22-8e2b-ddeb801a1cef",
   "metadata": {},
   "outputs": [],
   "source": [
    "model.conv1.weight.requires_grad = True\n",
    "model.bn1.weight.requires_grad = True\n",
    "#model.relu.weight.requires_grad = True\n",
    "#model.maxpool.weight.requires_grad = True\n",
    "model.layer1[0].conv1.weight.requires_grad = True\n",
    "model.layer1[0].bn1.weight.requires_grad = True\n",
    "#model.layer1[0].relu.weight.requires_grad = True\n",
    "model.layer1[0].conv2.weight.requires_grad = True\n",
    "model.layer1[0].bn2.weight.requires_grad = True\n",
    "model.layer1[1].conv1.weight.requires_grad = True\n",
    "model.layer1[1].bn1.weight.requires_grad = True\n",
    "#model.layer1[1].relu.weight.requires_grad = True\n",
    "model.layer1[1].conv2.weight.requires_grad = True\n",
    "model.layer1[1].bn2.weight.requires_grad = True\n",
    "model.layer2[0].conv1.weight.requires_grad = True\n",
    "model.layer2[0].bn1.weight.requires_grad = True\n",
    "#model.layer1[0].relu.weight.requires_grad = True\n",
    "model.layer2[0].conv2.weight.requires_grad = True\n",
    "model.layer2[0].bn2.weight.requires_grad = True\n",
    "model.layer2[1].conv1.weight.requires_grad = True\n",
    "model.layer2[1].bn1.weight.requires_grad = True\n",
    "#model.layer1[1].relu.weight.requires_grad = True\n",
    "model.layer2[1].conv2.weight.requires_grad = True\n",
    "model.layer2[1].bn2.weight.requires_grad = True"
   ]
  },
  {
   "cell_type": "code",
   "execution_count": null,
   "id": "d597e24b-efc1-4cb0-ba50-5de16bf35415",
   "metadata": {},
   "outputs": [
    {
     "name": "stdout",
     "output_type": "stream",
     "text": [
      "Fold 1\n",
      "cuda:0 is using !\n"
     ]
    },
    {
     "name": "stderr",
     "output_type": "stream",
     "text": [
      "100%|██████████| 56/56 [02:14<00:00,  2.41s/it]\n",
      "  0%|          | 0/19 [00:00<?, ?it/s]"
     ]
    },
    {
     "name": "stdout",
     "output_type": "stream",
     "text": [
      "현재 epoch-0의 train-데이터 셋에서 평균 Loss : 0.8723, 평균 Accuracy : 0.7752, 평균 F1 Score :  0.4864\n"
     ]
    },
    {
     "name": "stderr",
     "output_type": "stream",
     "text": [
      "100%|██████████| 19/19 [00:31<00:00,  1.65s/it]\n",
      "  0%|          | 0/56 [00:00<?, ?it/s]"
     ]
    },
    {
     "name": "stdout",
     "output_type": "stream",
     "text": [
      "현재 epoch-0의 test-데이터 셋에서 평균 Loss : 0.8107, 평균 Accuracy : 0.7964, 평균 F1 Score :  0.5254\n"
     ]
    },
    {
     "name": "stderr",
     "output_type": "stream",
     "text": [
      "100%|██████████| 56/56 [01:34<00:00,  1.69s/it]\n",
      "  0%|          | 0/19 [00:00<?, ?it/s]"
     ]
    },
    {
     "name": "stdout",
     "output_type": "stream",
     "text": [
      "현재 epoch-1의 train-데이터 셋에서 평균 Loss : 0.7389, 평균 Accuracy : 0.8238, 평균 F1 Score :  0.5723\n"
     ]
    },
    {
     "name": "stderr",
     "output_type": "stream",
     "text": [
      "100%|██████████| 19/19 [00:18<00:00,  1.00it/s]\n",
      "  0%|          | 0/56 [00:00<?, ?it/s]"
     ]
    },
    {
     "name": "stdout",
     "output_type": "stream",
     "text": [
      "현재 epoch-1의 test-데이터 셋에서 평균 Loss : 0.7095, 평균 Accuracy : 0.8248, 평균 F1 Score :  0.5703\n"
     ]
    },
    {
     "name": "stderr",
     "output_type": "stream",
     "text": [
      "100%|██████████| 56/56 [01:34<00:00,  1.69s/it]\n",
      "  0%|          | 0/19 [00:00<?, ?it/s]"
     ]
    },
    {
     "name": "stdout",
     "output_type": "stream",
     "text": [
      "현재 epoch-2의 train-데이터 셋에서 평균 Loss : 0.6368, 평균 Accuracy : 0.8570, 평균 F1 Score :  0.6174\n"
     ]
    },
    {
     "name": "stderr",
     "output_type": "stream",
     "text": [
      "100%|██████████| 19/19 [00:19<00:00,  1.00s/it]\n",
      "  0%|          | 0/56 [00:00<?, ?it/s]"
     ]
    },
    {
     "name": "stdout",
     "output_type": "stream",
     "text": [
      "현재 epoch-2의 test-데이터 셋에서 평균 Loss : 0.6379, 평균 Accuracy : 0.8546, 평균 F1 Score :  0.6396\n"
     ]
    },
    {
     "name": "stderr",
     "output_type": "stream",
     "text": [
      "100%|██████████| 56/56 [01:34<00:00,  1.69s/it]\n",
      "  0%|          | 0/19 [00:00<?, ?it/s]"
     ]
    },
    {
     "name": "stdout",
     "output_type": "stream",
     "text": [
      "현재 epoch-3의 train-데이터 셋에서 평균 Loss : 0.5527, 평균 Accuracy : 0.8840, 평균 F1 Score :  0.6688\n"
     ]
    },
    {
     "name": "stderr",
     "output_type": "stream",
     "text": [
      "100%|██████████| 19/19 [00:19<00:00,  1.00s/it]\n",
      "  0%|          | 0/56 [00:00<?, ?it/s]"
     ]
    },
    {
     "name": "stdout",
     "output_type": "stream",
     "text": [
      "현재 epoch-3의 test-데이터 셋에서 평균 Loss : 0.5840, 평균 Accuracy : 0.8584, 평균 F1 Score :  0.6300\n"
     ]
    },
    {
     "name": "stderr",
     "output_type": "stream",
     "text": [
      "100%|██████████| 56/56 [01:34<00:00,  1.69s/it]\n",
      "  0%|          | 0/19 [00:00<?, ?it/s]"
     ]
    },
    {
     "name": "stdout",
     "output_type": "stream",
     "text": [
      "현재 epoch-4의 train-데이터 셋에서 평균 Loss : 0.4833, 평균 Accuracy : 0.9011, 평균 F1 Score :  0.6925\n"
     ]
    },
    {
     "name": "stderr",
     "output_type": "stream",
     "text": [
      "100%|██████████| 19/19 [00:19<00:00,  1.01s/it]\n",
      "  0%|          | 0/56 [00:00<?, ?it/s]"
     ]
    },
    {
     "name": "stdout",
     "output_type": "stream",
     "text": [
      "현재 epoch-4의 test-데이터 셋에서 평균 Loss : 0.5202, 평균 Accuracy : 0.8768, 평균 F1 Score :  0.6613\n"
     ]
    },
    {
     "name": "stderr",
     "output_type": "stream",
     "text": [
      "100%|██████████| 56/56 [01:34<00:00,  1.68s/it]\n",
      "  0%|          | 0/19 [00:00<?, ?it/s]"
     ]
    },
    {
     "name": "stdout",
     "output_type": "stream",
     "text": [
      "현재 epoch-5의 train-데이터 셋에서 평균 Loss : 0.4286, 평균 Accuracy : 0.9132, 평균 F1 Score :  0.7097\n"
     ]
    },
    {
     "name": "stderr",
     "output_type": "stream",
     "text": [
      "100%|██████████| 19/19 [00:19<00:00,  1.02s/it]\n",
      "  0%|          | 0/56 [00:00<?, ?it/s]"
     ]
    },
    {
     "name": "stdout",
     "output_type": "stream",
     "text": [
      "현재 epoch-5의 test-데이터 셋에서 평균 Loss : 0.4728, 평균 Accuracy : 0.8836, 평균 F1 Score :  0.6722\n"
     ]
    },
    {
     "name": "stderr",
     "output_type": "stream",
     "text": [
      "100%|██████████| 56/56 [01:34<00:00,  1.68s/it]\n",
      "  0%|          | 0/19 [00:00<?, ?it/s]"
     ]
    },
    {
     "name": "stdout",
     "output_type": "stream",
     "text": [
      "현재 epoch-6의 train-데이터 셋에서 평균 Loss : 0.3811, 평균 Accuracy : 0.9242, 평균 F1 Score :  0.7251\n"
     ]
    },
    {
     "name": "stderr",
     "output_type": "stream",
     "text": [
      "100%|██████████| 19/19 [00:19<00:00,  1.00s/it]\n",
      "  0%|          | 0/56 [00:00<?, ?it/s]"
     ]
    },
    {
     "name": "stdout",
     "output_type": "stream",
     "text": [
      "현재 epoch-6의 test-데이터 셋에서 평균 Loss : 0.4456, 평균 Accuracy : 0.8965, 평균 F1 Score :  0.6818\n"
     ]
    },
    {
     "name": "stderr",
     "output_type": "stream",
     "text": [
      "100%|██████████| 56/56 [01:34<00:00,  1.68s/it]\n",
      "  0%|          | 0/19 [00:00<?, ?it/s]"
     ]
    },
    {
     "name": "stdout",
     "output_type": "stream",
     "text": [
      "현재 epoch-7의 train-데이터 셋에서 평균 Loss : 0.3389, 평균 Accuracy : 0.9336, 평균 F1 Score :  0.7493\n"
     ]
    },
    {
     "name": "stderr",
     "output_type": "stream",
     "text": [
      "100%|██████████| 19/19 [00:18<00:00,  1.00it/s]\n",
      "  0%|          | 0/56 [00:00<?, ?it/s]"
     ]
    },
    {
     "name": "stdout",
     "output_type": "stream",
     "text": [
      "현재 epoch-7의 test-데이터 셋에서 평균 Loss : 0.4296, 평균 Accuracy : 0.8980, 평균 F1 Score :  0.7013\n"
     ]
    },
    {
     "name": "stderr",
     "output_type": "stream",
     "text": [
      "100%|██████████| 56/56 [01:34<00:00,  1.68s/it]\n",
      "  0%|          | 0/19 [00:00<?, ?it/s]"
     ]
    },
    {
     "name": "stdout",
     "output_type": "stream",
     "text": [
      "현재 epoch-8의 train-데이터 셋에서 평균 Loss : 0.3066, 평균 Accuracy : 0.9409, 평균 F1 Score :  0.7584\n"
     ]
    },
    {
     "name": "stderr",
     "output_type": "stream",
     "text": [
      "100%|██████████| 19/19 [00:19<00:00,  1.01s/it]\n",
      "  0%|          | 0/56 [00:00<?, ?it/s]"
     ]
    },
    {
     "name": "stdout",
     "output_type": "stream",
     "text": [
      "현재 epoch-8의 test-데이터 셋에서 평균 Loss : 0.4007, 평균 Accuracy : 0.8988, 평균 F1 Score :  0.7062\n"
     ]
    },
    {
     "name": "stderr",
     "output_type": "stream",
     "text": [
      "100%|██████████| 56/56 [01:34<00:00,  1.69s/it]\n",
      "  0%|          | 0/19 [00:00<?, ?it/s]"
     ]
    },
    {
     "name": "stdout",
     "output_type": "stream",
     "text": [
      "현재 epoch-9의 train-데이터 셋에서 평균 Loss : 0.2747, 평균 Accuracy : 0.9496, 평균 F1 Score :  0.7843\n"
     ]
    },
    {
     "name": "stderr",
     "output_type": "stream",
     "text": [
      "100%|██████████| 19/19 [00:18<00:00,  1.00it/s]\n",
      "  0%|          | 0/56 [00:00<?, ?it/s]"
     ]
    },
    {
     "name": "stdout",
     "output_type": "stream",
     "text": [
      "현재 epoch-9의 test-데이터 셋에서 평균 Loss : 0.3655, 평균 Accuracy : 0.9128, 평균 F1 Score :  0.7346\n"
     ]
    },
    {
     "name": "stderr",
     "output_type": "stream",
     "text": [
      "100%|██████████| 56/56 [01:34<00:00,  1.68s/it]\n",
      "  0%|          | 0/19 [00:00<?, ?it/s]"
     ]
    },
    {
     "name": "stdout",
     "output_type": "stream",
     "text": [
      "현재 epoch-10의 train-데이터 셋에서 평균 Loss : 0.2464, 평균 Accuracy : 0.9580, 평균 F1 Score :  0.7987\n"
     ]
    },
    {
     "name": "stderr",
     "output_type": "stream",
     "text": [
      "100%|██████████| 19/19 [00:19<00:00,  1.00s/it]\n",
      "  0%|          | 0/56 [00:00<?, ?it/s]"
     ]
    },
    {
     "name": "stdout",
     "output_type": "stream",
     "text": [
      "현재 epoch-10의 test-데이터 셋에서 평균 Loss : 0.3511, 평균 Accuracy : 0.9092, 평균 F1 Score :  0.7293\n"
     ]
    },
    {
     "name": "stderr",
     "output_type": "stream",
     "text": [
      "100%|██████████| 56/56 [01:34<00:00,  1.69s/it]\n",
      "  0%|          | 0/19 [00:00<?, ?it/s]"
     ]
    },
    {
     "name": "stdout",
     "output_type": "stream",
     "text": [
      "현재 epoch-11의 train-데이터 셋에서 평균 Loss : 0.2240, 평균 Accuracy : 0.9607, 평균 F1 Score :  0.8143\n"
     ]
    },
    {
     "name": "stderr",
     "output_type": "stream",
     "text": [
      "100%|██████████| 19/19 [00:19<00:00,  1.00s/it]\n",
      "  0%|          | 0/56 [00:00<?, ?it/s]"
     ]
    },
    {
     "name": "stdout",
     "output_type": "stream",
     "text": [
      "현재 epoch-11의 test-데이터 셋에서 평균 Loss : 0.3268, 평균 Accuracy : 0.9166, 평균 F1 Score :  0.7386\n"
     ]
    },
    {
     "name": "stderr",
     "output_type": "stream",
     "text": [
      "100%|██████████| 56/56 [01:34<00:00,  1.69s/it]\n",
      "  0%|          | 0/19 [00:00<?, ?it/s]"
     ]
    },
    {
     "name": "stdout",
     "output_type": "stream",
     "text": [
      "현재 epoch-12의 train-데이터 셋에서 평균 Loss : 0.2037, 평균 Accuracy : 0.9668, 평균 F1 Score :  0.8309\n"
     ]
    },
    {
     "name": "stderr",
     "output_type": "stream",
     "text": [
      "100%|██████████| 19/19 [00:19<00:00,  1.00s/it]\n",
      "  0%|          | 0/56 [00:00<?, ?it/s]"
     ]
    },
    {
     "name": "stdout",
     "output_type": "stream",
     "text": [
      "현재 epoch-12의 test-데이터 셋에서 평균 Loss : 0.3137, 평균 Accuracy : 0.9158, 평균 F1 Score :  0.7400\n"
     ]
    },
    {
     "name": "stderr",
     "output_type": "stream",
     "text": [
      "100%|██████████| 56/56 [01:34<00:00,  1.68s/it]\n",
      "  0%|          | 0/19 [00:00<?, ?it/s]"
     ]
    },
    {
     "name": "stdout",
     "output_type": "stream",
     "text": [
      "현재 epoch-13의 train-데이터 셋에서 평균 Loss : 0.1844, 평균 Accuracy : 0.9714, 평균 F1 Score :  0.8523\n"
     ]
    },
    {
     "name": "stderr",
     "output_type": "stream",
     "text": [
      "100%|██████████| 19/19 [00:18<00:00,  1.01it/s]\n",
      "  0%|          | 0/56 [00:00<?, ?it/s]"
     ]
    },
    {
     "name": "stdout",
     "output_type": "stream",
     "text": [
      "현재 epoch-13의 test-데이터 셋에서 평균 Loss : 0.2993, 평균 Accuracy : 0.9187, 평균 F1 Score :  0.7435\n"
     ]
    },
    {
     "name": "stderr",
     "output_type": "stream",
     "text": [
      "100%|██████████| 56/56 [01:33<00:00,  1.68s/it]\n",
      "  0%|          | 0/19 [00:00<?, ?it/s]"
     ]
    },
    {
     "name": "stdout",
     "output_type": "stream",
     "text": [
      "현재 epoch-14의 train-데이터 셋에서 평균 Loss : 0.1673, 평균 Accuracy : 0.9764, 평균 F1 Score :  0.8749\n"
     ]
    },
    {
     "name": "stderr",
     "output_type": "stream",
     "text": [
      "100%|██████████| 19/19 [00:19<00:00,  1.00s/it]\n",
      "  0%|          | 0/56 [00:00<?, ?it/s]"
     ]
    },
    {
     "name": "stdout",
     "output_type": "stream",
     "text": [
      "현재 epoch-14의 test-데이터 셋에서 평균 Loss : 0.2785, 평균 Accuracy : 0.9240, 평균 F1 Score :  0.7541\n"
     ]
    },
    {
     "name": "stderr",
     "output_type": "stream",
     "text": [
      "100%|██████████| 56/56 [01:35<00:00,  1.70s/it]\n",
      "  0%|          | 0/19 [00:00<?, ?it/s]"
     ]
    },
    {
     "name": "stdout",
     "output_type": "stream",
     "text": [
      "현재 epoch-15의 train-데이터 셋에서 평균 Loss : 0.1505, 평균 Accuracy : 0.9808, 평균 F1 Score :  0.8836\n"
     ]
    },
    {
     "name": "stderr",
     "output_type": "stream",
     "text": [
      "100%|██████████| 19/19 [00:18<00:00,  1.00it/s]\n",
      "  0%|          | 0/56 [00:00<?, ?it/s]"
     ]
    },
    {
     "name": "stdout",
     "output_type": "stream",
     "text": [
      "현재 epoch-15의 test-데이터 셋에서 평균 Loss : 0.2728, 평균 Accuracy : 0.9268, 평균 F1 Score :  0.7627\n"
     ]
    },
    {
     "name": "stderr",
     "output_type": "stream",
     "text": [
      "100%|██████████| 56/56 [01:33<00:00,  1.67s/it]\n",
      "  0%|          | 0/19 [00:00<?, ?it/s]"
     ]
    },
    {
     "name": "stdout",
     "output_type": "stream",
     "text": [
      "현재 epoch-16의 train-데이터 셋에서 평균 Loss : 0.1372, 평균 Accuracy : 0.9831, 평균 F1 Score :  0.8981\n"
     ]
    },
    {
     "name": "stderr",
     "output_type": "stream",
     "text": [
      "100%|██████████| 19/19 [00:18<00:00,  1.01it/s]\n",
      "  0%|          | 0/56 [00:00<?, ?it/s]"
     ]
    },
    {
     "name": "stdout",
     "output_type": "stream",
     "text": [
      "현재 epoch-16의 test-데이터 셋에서 평균 Loss : 0.2611, 평균 Accuracy : 0.9316, 평균 F1 Score :  0.7691\n"
     ]
    },
    {
     "name": "stderr",
     "output_type": "stream",
     "text": [
      "100%|██████████| 56/56 [01:33<00:00,  1.67s/it]\n",
      "  0%|          | 0/19 [00:00<?, ?it/s]"
     ]
    },
    {
     "name": "stdout",
     "output_type": "stream",
     "text": [
      "현재 epoch-17의 train-데이터 셋에서 평균 Loss : 0.1265, 평균 Accuracy : 0.9865, 평균 F1 Score :  0.9264\n"
     ]
    },
    {
     "name": "stderr",
     "output_type": "stream",
     "text": [
      "100%|██████████| 19/19 [00:18<00:00,  1.01it/s]\n",
      "  0%|          | 0/56 [00:00<?, ?it/s]"
     ]
    },
    {
     "name": "stdout",
     "output_type": "stream",
     "text": [
      "현재 epoch-17의 test-데이터 셋에서 평균 Loss : 0.2533, 평균 Accuracy : 0.9299, 평균 F1 Score :  0.7781\n"
     ]
    },
    {
     "name": "stderr",
     "output_type": "stream",
     "text": [
      "100%|██████████| 56/56 [01:33<00:00,  1.68s/it]\n",
      "  0%|          | 0/19 [00:00<?, ?it/s]"
     ]
    },
    {
     "name": "stdout",
     "output_type": "stream",
     "text": [
      "현재 epoch-18의 train-데이터 셋에서 평균 Loss : 0.1147, 평균 Accuracy : 0.9892, 평균 F1 Score :  0.9374\n"
     ]
    },
    {
     "name": "stderr",
     "output_type": "stream",
     "text": [
      "100%|██████████| 19/19 [00:18<00:00,  1.01it/s]\n",
      "  0%|          | 0/56 [00:00<?, ?it/s]"
     ]
    },
    {
     "name": "stdout",
     "output_type": "stream",
     "text": [
      "현재 epoch-18의 test-데이터 셋에서 평균 Loss : 0.2385, 평균 Accuracy : 0.9350, 평균 F1 Score :  0.7748\n"
     ]
    },
    {
     "name": "stderr",
     "output_type": "stream",
     "text": [
      "100%|██████████| 56/56 [01:34<00:00,  1.69s/it]\n",
      "  0%|          | 0/19 [00:00<?, ?it/s]"
     ]
    },
    {
     "name": "stdout",
     "output_type": "stream",
     "text": [
      "현재 epoch-19의 train-데이터 셋에서 평균 Loss : 0.1035, 평균 Accuracy : 0.9912, 평균 F1 Score :  0.9448\n"
     ]
    },
    {
     "name": "stderr",
     "output_type": "stream",
     "text": [
      "100%|██████████| 19/19 [00:19<00:00,  1.01s/it]\n"
     ]
    },
    {
     "name": "stdout",
     "output_type": "stream",
     "text": [
      "현재 epoch-19의 test-데이터 셋에서 평균 Loss : 0.2293, 평균 Accuracy : 0.9367, 평균 F1 Score :  0.7698\n",
      "Fold 2\n",
      "cuda:0 is using !\n"
     ]
    },
    {
     "name": "stderr",
     "output_type": "stream",
     "text": [
      "100%|██████████| 56/56 [02:10<00:00,  2.34s/it]\n",
      "  0%|          | 0/19 [00:00<?, ?it/s]"
     ]
    },
    {
     "name": "stdout",
     "output_type": "stream",
     "text": [
      "현재 epoch-0의 train-데이터 셋에서 평균 Loss : 0.1463, 평균 Accuracy : 0.9743, 평균 F1 Score :  0.8956\n"
     ]
    },
    {
     "name": "stderr",
     "output_type": "stream",
     "text": [
      "100%|██████████| 19/19 [00:31<00:00,  1.64s/it]\n",
      "  0%|          | 0/56 [00:00<?, ?it/s]"
     ]
    },
    {
     "name": "stdout",
     "output_type": "stream",
     "text": [
      "현재 epoch-0의 test-데이터 셋에서 평균 Loss : 0.1006, 평균 Accuracy : 0.9894, 평균 F1 Score :  0.9441\n"
     ]
    },
    {
     "name": "stderr",
     "output_type": "stream",
     "text": [
      "100%|██████████| 56/56 [01:34<00:00,  1.69s/it]\n",
      "  0%|          | 0/19 [00:00<?, ?it/s]"
     ]
    },
    {
     "name": "stdout",
     "output_type": "stream",
     "text": [
      "현재 epoch-1의 train-데이터 셋에서 평균 Loss : 0.1197, 평균 Accuracy : 0.9818, 평균 F1 Score :  0.9166\n"
     ]
    },
    {
     "name": "stderr",
     "output_type": "stream",
     "text": [
      "100%|██████████| 19/19 [00:18<00:00,  1.01it/s]\n",
      "  0%|          | 0/56 [00:00<?, ?it/s]"
     ]
    },
    {
     "name": "stdout",
     "output_type": "stream",
     "text": [
      "현재 epoch-1의 test-데이터 셋에서 평균 Loss : 0.1002, 평균 Accuracy : 0.9877, 평균 F1 Score :  0.9438\n"
     ]
    },
    {
     "name": "stderr",
     "output_type": "stream",
     "text": [
      "100%|██████████| 56/56 [01:33<00:00,  1.67s/it]\n",
      "  0%|          | 0/19 [00:00<?, ?it/s]"
     ]
    },
    {
     "name": "stdout",
     "output_type": "stream",
     "text": [
      "현재 epoch-2의 train-데이터 셋에서 평균 Loss : 0.1033, 평균 Accuracy : 0.9871, 평균 F1 Score :  0.9346\n"
     ]
    },
    {
     "name": "stderr",
     "output_type": "stream",
     "text": [
      "100%|██████████| 19/19 [00:19<00:00,  1.03s/it]\n",
      "  0%|          | 0/56 [00:00<?, ?it/s]"
     ]
    },
    {
     "name": "stdout",
     "output_type": "stream",
     "text": [
      "현재 epoch-2의 test-데이터 셋에서 평균 Loss : 0.0995, 평균 Accuracy : 0.9884, 평균 F1 Score :  0.9430\n"
     ]
    },
    {
     "name": "stderr",
     "output_type": "stream",
     "text": [
      "100%|██████████| 56/56 [01:35<00:00,  1.71s/it]\n",
      "  0%|          | 0/19 [00:00<?, ?it/s]"
     ]
    },
    {
     "name": "stdout",
     "output_type": "stream",
     "text": [
      "현재 epoch-3의 train-데이터 셋에서 평균 Loss : 0.0900, 평균 Accuracy : 0.9906, 평균 F1 Score :  0.9516\n"
     ]
    },
    {
     "name": "stderr",
     "output_type": "stream",
     "text": [
      "100%|██████████| 19/19 [00:19<00:00,  1.02s/it]\n",
      "  0%|          | 0/56 [00:00<?, ?it/s]"
     ]
    },
    {
     "name": "stdout",
     "output_type": "stream",
     "text": [
      "현재 epoch-3의 test-데이터 셋에서 평균 Loss : 0.0845, 평균 Accuracy : 0.9898, 평균 F1 Score :  0.9505\n"
     ]
    },
    {
     "name": "stderr",
     "output_type": "stream",
     "text": [
      "100%|██████████| 56/56 [01:34<00:00,  1.69s/it]\n",
      "  0%|          | 0/19 [00:00<?, ?it/s]"
     ]
    },
    {
     "name": "stdout",
     "output_type": "stream",
     "text": [
      "현재 epoch-4의 train-데이터 셋에서 평균 Loss : 0.0783, 평균 Accuracy : 0.9930, 평균 F1 Score :  0.9629\n"
     ]
    },
    {
     "name": "stderr",
     "output_type": "stream",
     "text": [
      "100%|██████████| 19/19 [00:18<00:00,  1.01it/s]\n",
      "  0%|          | 0/56 [00:00<?, ?it/s]"
     ]
    },
    {
     "name": "stdout",
     "output_type": "stream",
     "text": [
      "현재 epoch-4의 test-데이터 셋에서 평균 Loss : 0.0989, 평균 Accuracy : 0.9894, 평균 F1 Score :  0.9698\n"
     ]
    },
    {
     "name": "stderr",
     "output_type": "stream",
     "text": [
      "100%|██████████| 56/56 [01:33<00:00,  1.67s/it]\n",
      "  0%|          | 0/19 [00:00<?, ?it/s]"
     ]
    },
    {
     "name": "stdout",
     "output_type": "stream",
     "text": [
      "현재 epoch-5의 train-데이터 셋에서 평균 Loss : 0.0713, 평균 Accuracy : 0.9958, 평균 F1 Score :  0.9778\n"
     ]
    },
    {
     "name": "stderr",
     "output_type": "stream",
     "text": [
      "100%|██████████| 19/19 [00:18<00:00,  1.02it/s]\n",
      "  0%|          | 0/56 [00:00<?, ?it/s]"
     ]
    },
    {
     "name": "stdout",
     "output_type": "stream",
     "text": [
      "현재 epoch-5의 test-데이터 셋에서 평균 Loss : 0.0828, 평균 Accuracy : 0.9858, 평균 F1 Score :  0.9400\n"
     ]
    },
    {
     "name": "stderr",
     "output_type": "stream",
     "text": [
      "100%|██████████| 56/56 [01:33<00:00,  1.67s/it]\n",
      "  0%|          | 0/19 [00:00<?, ?it/s]"
     ]
    },
    {
     "name": "stdout",
     "output_type": "stream",
     "text": [
      "현재 epoch-6의 train-데이터 셋에서 평균 Loss : 0.0606, 평균 Accuracy : 0.9970, 평균 F1 Score :  0.9813\n"
     ]
    },
    {
     "name": "stderr",
     "output_type": "stream",
     "text": [
      "100%|██████████| 19/19 [00:18<00:00,  1.02it/s]\n",
      "  0%|          | 0/56 [00:00<?, ?it/s]"
     ]
    },
    {
     "name": "stdout",
     "output_type": "stream",
     "text": [
      "현재 epoch-6의 test-데이터 셋에서 평균 Loss : 0.0757, 평균 Accuracy : 0.9898, 평균 F1 Score :  0.9469\n"
     ]
    },
    {
     "name": "stderr",
     "output_type": "stream",
     "text": [
      "100%|██████████| 56/56 [01:33<00:00,  1.66s/it]\n",
      "  0%|          | 0/19 [00:00<?, ?it/s]"
     ]
    },
    {
     "name": "stdout",
     "output_type": "stream",
     "text": [
      "현재 epoch-7의 train-데이터 셋에서 평균 Loss : 0.0532, 평균 Accuracy : 0.9978, 평균 F1 Score :  0.9859\n"
     ]
    },
    {
     "name": "stderr",
     "output_type": "stream",
     "text": [
      "100%|██████████| 19/19 [00:18<00:00,  1.02it/s]\n",
      "  0%|          | 0/56 [00:00<?, ?it/s]"
     ]
    },
    {
     "name": "stdout",
     "output_type": "stream",
     "text": [
      "현재 epoch-7의 test-데이터 셋에서 평균 Loss : 0.0749, 평균 Accuracy : 0.9890, 평균 F1 Score :  0.9482\n"
     ]
    },
    {
     "name": "stderr",
     "output_type": "stream",
     "text": [
      "100%|██████████| 56/56 [01:33<00:00,  1.66s/it]\n",
      "  0%|          | 0/19 [00:00<?, ?it/s]"
     ]
    },
    {
     "name": "stdout",
     "output_type": "stream",
     "text": [
      "현재 epoch-8의 train-데이터 셋에서 평균 Loss : 0.0472, 평균 Accuracy : 0.9987, 평균 F1 Score :  0.9929\n"
     ]
    },
    {
     "name": "stderr",
     "output_type": "stream",
     "text": [
      "100%|██████████| 19/19 [00:18<00:00,  1.02it/s]\n",
      "  0%|          | 0/56 [00:00<?, ?it/s]"
     ]
    },
    {
     "name": "stdout",
     "output_type": "stream",
     "text": [
      "현재 epoch-8의 test-데이터 셋에서 평균 Loss : 0.0716, 평균 Accuracy : 0.9873, 평균 F1 Score :  0.9390\n"
     ]
    },
    {
     "name": "stderr",
     "output_type": "stream",
     "text": [
      "100%|██████████| 56/56 [01:33<00:00,  1.66s/it]\n",
      "  0%|          | 0/19 [00:00<?, ?it/s]"
     ]
    },
    {
     "name": "stdout",
     "output_type": "stream",
     "text": [
      "현재 epoch-9의 train-데이터 셋에서 평균 Loss : 0.0420, 평균 Accuracy : 0.9994, 평균 F1 Score :  0.9966\n"
     ]
    },
    {
     "name": "stderr",
     "output_type": "stream",
     "text": [
      "100%|██████████| 19/19 [00:18<00:00,  1.01it/s]\n",
      "  0%|          | 0/56 [00:00<?, ?it/s]"
     ]
    },
    {
     "name": "stdout",
     "output_type": "stream",
     "text": [
      "현재 epoch-9의 test-데이터 셋에서 평균 Loss : 0.0738, 평균 Accuracy : 0.9869, 평균 F1 Score :  0.9509\n"
     ]
    },
    {
     "name": "stderr",
     "output_type": "stream",
     "text": [
      "100%|██████████| 56/56 [01:33<00:00,  1.67s/it]\n",
      "  0%|          | 0/19 [00:00<?, ?it/s]"
     ]
    },
    {
     "name": "stdout",
     "output_type": "stream",
     "text": [
      "현재 epoch-10의 train-데이터 셋에서 평균 Loss : 0.0381, 평균 Accuracy : 0.9996, 평균 F1 Score :  0.9981\n"
     ]
    },
    {
     "name": "stderr",
     "output_type": "stream",
     "text": [
      "100%|██████████| 19/19 [00:18<00:00,  1.02it/s]\n",
      "  0%|          | 0/56 [00:00<?, ?it/s]"
     ]
    },
    {
     "name": "stdout",
     "output_type": "stream",
     "text": [
      "현재 epoch-10의 test-데이터 셋에서 평균 Loss : 0.0687, 평균 Accuracy : 0.9881, 평균 F1 Score :  0.9348\n"
     ]
    },
    {
     "name": "stderr",
     "output_type": "stream",
     "text": [
      "100%|██████████| 56/56 [01:34<00:00,  1.69s/it]\n",
      "  0%|          | 0/19 [00:00<?, ?it/s]"
     ]
    },
    {
     "name": "stdout",
     "output_type": "stream",
     "text": [
      "현재 epoch-11의 train-데이터 셋에서 평균 Loss : 0.0339, 평균 Accuracy : 0.9997, 평균 F1 Score :  0.9995\n"
     ]
    },
    {
     "name": "stderr",
     "output_type": "stream",
     "text": [
      "100%|██████████| 19/19 [00:18<00:00,  1.00it/s]\n",
      "  0%|          | 0/56 [00:00<?, ?it/s]"
     ]
    },
    {
     "name": "stdout",
     "output_type": "stream",
     "text": [
      "현재 epoch-11의 test-데이터 셋에서 평균 Loss : 0.0665, 평균 Accuracy : 0.9877, 평균 F1 Score :  0.9409\n"
     ]
    },
    {
     "name": "stderr",
     "output_type": "stream",
     "text": [
      "100%|██████████| 56/56 [01:34<00:00,  1.68s/it]\n",
      "  0%|          | 0/19 [00:00<?, ?it/s]"
     ]
    },
    {
     "name": "stdout",
     "output_type": "stream",
     "text": [
      "현재 epoch-12의 train-데이터 셋에서 평균 Loss : 0.0308, 평균 Accuracy : 0.9999, 평균 F1 Score :  0.9995\n"
     ]
    },
    {
     "name": "stderr",
     "output_type": "stream",
     "text": [
      "100%|██████████| 19/19 [00:18<00:00,  1.02it/s]\n",
      "  0%|          | 0/56 [00:00<?, ?it/s]"
     ]
    },
    {
     "name": "stdout",
     "output_type": "stream",
     "text": [
      "현재 epoch-12의 test-데이터 셋에서 평균 Loss : 0.0647, 평균 Accuracy : 0.9873, 평균 F1 Score :  0.9404\n"
     ]
    },
    {
     "name": "stderr",
     "output_type": "stream",
     "text": [
      "100%|██████████| 56/56 [01:33<00:00,  1.67s/it]\n",
      "  0%|          | 0/19 [00:00<?, ?it/s]"
     ]
    },
    {
     "name": "stdout",
     "output_type": "stream",
     "text": [
      "현재 epoch-13의 train-데이터 셋에서 평균 Loss : 0.0279, 평균 Accuracy : 0.9999, 평균 F1 Score :  0.9999\n"
     ]
    },
    {
     "name": "stderr",
     "output_type": "stream",
     "text": [
      "100%|██████████| 19/19 [00:19<00:00,  1.01s/it]\n",
      "  0%|          | 0/56 [00:00<?, ?it/s]"
     ]
    },
    {
     "name": "stdout",
     "output_type": "stream",
     "text": [
      "현재 epoch-13의 test-데이터 셋에서 평균 Loss : 0.0633, 평균 Accuracy : 0.9867, 평균 F1 Score :  0.9419\n"
     ]
    },
    {
     "name": "stderr",
     "output_type": "stream",
     "text": [
      "100%|██████████| 56/56 [01:35<00:00,  1.71s/it]\n",
      "  0%|          | 0/19 [00:00<?, ?it/s]"
     ]
    },
    {
     "name": "stdout",
     "output_type": "stream",
     "text": [
      "현재 epoch-14의 train-데이터 셋에서 평균 Loss : 0.0254, 평균 Accuracy : 0.9999, 평균 F1 Score :  0.9999\n"
     ]
    },
    {
     "name": "stderr",
     "output_type": "stream",
     "text": [
      "100%|██████████| 19/19 [00:19<00:00,  1.01s/it]\n",
      "  0%|          | 0/56 [00:00<?, ?it/s]"
     ]
    },
    {
     "name": "stdout",
     "output_type": "stream",
     "text": [
      "현재 epoch-14의 test-데이터 셋에서 평균 Loss : 0.0673, 평균 Accuracy : 0.9841, 평균 F1 Score :  0.9269\n"
     ]
    },
    {
     "name": "stderr",
     "output_type": "stream",
     "text": [
      "100%|██████████| 56/56 [01:34<00:00,  1.70s/it]\n",
      "  0%|          | 0/19 [00:00<?, ?it/s]"
     ]
    },
    {
     "name": "stdout",
     "output_type": "stream",
     "text": [
      "현재 epoch-15의 train-데이터 셋에서 평균 Loss : 0.0234, 평균 Accuracy : 0.9999, 평균 F1 Score :  0.9999\n"
     ]
    },
    {
     "name": "stderr",
     "output_type": "stream",
     "text": [
      "100%|██████████| 19/19 [00:18<00:00,  1.02it/s]\n",
      "  0%|          | 0/56 [00:00<?, ?it/s]"
     ]
    },
    {
     "name": "stdout",
     "output_type": "stream",
     "text": [
      "현재 epoch-15의 test-데이터 셋에서 평균 Loss : 0.0621, 평균 Accuracy : 0.9865, 평균 F1 Score :  0.9377\n"
     ]
    },
    {
     "name": "stderr",
     "output_type": "stream",
     "text": [
      "100%|██████████| 56/56 [01:34<00:00,  1.68s/it]\n",
      "  0%|          | 0/19 [00:00<?, ?it/s]"
     ]
    },
    {
     "name": "stdout",
     "output_type": "stream",
     "text": [
      "현재 epoch-16의 train-데이터 셋에서 평균 Loss : 0.0210, 평균 Accuracy : 1.0000, 평균 F1 Score :  1.0000\n"
     ]
    },
    {
     "name": "stderr",
     "output_type": "stream",
     "text": [
      "100%|██████████| 19/19 [00:19<00:00,  1.00s/it]\n",
      "  0%|          | 0/56 [00:00<?, ?it/s]"
     ]
    },
    {
     "name": "stdout",
     "output_type": "stream",
     "text": [
      "현재 epoch-16의 test-데이터 셋에서 평균 Loss : 0.0591, 평균 Accuracy : 0.9886, 평균 F1 Score :  0.9546\n"
     ]
    },
    {
     "name": "stderr",
     "output_type": "stream",
     "text": [
      "100%|██████████| 56/56 [01:34<00:00,  1.70s/it]\n",
      "  0%|          | 0/19 [00:00<?, ?it/s]"
     ]
    },
    {
     "name": "stdout",
     "output_type": "stream",
     "text": [
      "현재 epoch-17의 train-데이터 셋에서 평균 Loss : 0.0190, 평균 Accuracy : 1.0000, 평균 F1 Score :  1.0000\n"
     ]
    },
    {
     "name": "stderr",
     "output_type": "stream",
     "text": [
      "100%|██████████| 19/19 [00:19<00:00,  1.01s/it]\n",
      "  0%|          | 0/56 [00:00<?, ?it/s]"
     ]
    },
    {
     "name": "stdout",
     "output_type": "stream",
     "text": [
      "현재 epoch-17의 test-데이터 셋에서 평균 Loss : 0.0611, 평균 Accuracy : 0.9841, 평균 F1 Score :  0.9292\n"
     ]
    },
    {
     "name": "stderr",
     "output_type": "stream",
     "text": [
      "100%|██████████| 56/56 [01:34<00:00,  1.69s/it]\n",
      "  0%|          | 0/19 [00:00<?, ?it/s]"
     ]
    },
    {
     "name": "stdout",
     "output_type": "stream",
     "text": [
      "현재 epoch-18의 train-데이터 셋에서 평균 Loss : 0.0177, 평균 Accuracy : 1.0000, 평균 F1 Score :  1.0000\n"
     ]
    },
    {
     "name": "stderr",
     "output_type": "stream",
     "text": [
      "100%|██████████| 19/19 [00:18<00:00,  1.00it/s]\n",
      "  0%|          | 0/56 [00:00<?, ?it/s]"
     ]
    },
    {
     "name": "stdout",
     "output_type": "stream",
     "text": [
      "현재 epoch-18의 test-데이터 셋에서 평균 Loss : 0.0575, 평균 Accuracy : 0.9858, 평균 F1 Score :  0.9231\n"
     ]
    },
    {
     "name": "stderr",
     "output_type": "stream",
     "text": [
      "100%|██████████| 56/56 [01:34<00:00,  1.68s/it]\n",
      "  0%|          | 0/19 [00:00<?, ?it/s]"
     ]
    },
    {
     "name": "stdout",
     "output_type": "stream",
     "text": [
      "현재 epoch-19의 train-데이터 셋에서 평균 Loss : 0.0162, 평균 Accuracy : 1.0000, 평균 F1 Score :  1.0000\n"
     ]
    },
    {
     "name": "stderr",
     "output_type": "stream",
     "text": [
      "100%|██████████| 19/19 [00:18<00:00,  1.02it/s]\n"
     ]
    },
    {
     "name": "stdout",
     "output_type": "stream",
     "text": [
      "현재 epoch-19의 test-데이터 셋에서 평균 Loss : 0.0588, 평균 Accuracy : 0.9873, 평균 F1 Score :  0.9568\n",
      "Fold 3\n",
      "cuda:0 is using !\n"
     ]
    },
    {
     "name": "stderr",
     "output_type": "stream",
     "text": [
      "100%|██████████| 56/56 [02:14<00:00,  2.41s/it]\n",
      "  0%|          | 0/19 [00:00<?, ?it/s]"
     ]
    },
    {
     "name": "stdout",
     "output_type": "stream",
     "text": [
      "현재 epoch-0의 train-데이터 셋에서 평균 Loss : 0.0351, 평균 Accuracy : 0.9955, 평균 F1 Score :  0.9842\n"
     ]
    },
    {
     "name": "stderr",
     "output_type": "stream",
     "text": [
      "100%|██████████| 19/19 [00:32<00:00,  1.73s/it]\n",
      "  0%|          | 0/56 [00:00<?, ?it/s]"
     ]
    },
    {
     "name": "stdout",
     "output_type": "stream",
     "text": [
      "현재 epoch-0의 test-데이터 셋에서 평균 Loss : 0.0194, 평균 Accuracy : 1.0000, 평균 F1 Score :  1.0000\n"
     ]
    },
    {
     "name": "stderr",
     "output_type": "stream",
     "text": [
      "100%|██████████| 56/56 [01:33<00:00,  1.67s/it]\n",
      "  0%|          | 0/19 [00:00<?, ?it/s]"
     ]
    },
    {
     "name": "stdout",
     "output_type": "stream",
     "text": [
      "현재 epoch-1의 train-데이터 셋에서 평균 Loss : 0.0249, 평균 Accuracy : 0.9991, 평균 F1 Score :  0.9941\n"
     ]
    },
    {
     "name": "stderr",
     "output_type": "stream",
     "text": [
      "100%|██████████| 19/19 [00:18<00:00,  1.02it/s]\n",
      "  0%|          | 0/56 [00:00<?, ?it/s]"
     ]
    },
    {
     "name": "stdout",
     "output_type": "stream",
     "text": [
      "현재 epoch-1의 test-데이터 셋에서 평균 Loss : 0.0161, 평균 Accuracy : 1.0000, 평균 F1 Score :  1.0000\n"
     ]
    },
    {
     "name": "stderr",
     "output_type": "stream",
     "text": [
      "100%|██████████| 56/56 [01:33<00:00,  1.67s/it]\n",
      "  0%|          | 0/19 [00:00<?, ?it/s]"
     ]
    },
    {
     "name": "stdout",
     "output_type": "stream",
     "text": [
      "현재 epoch-2의 train-데이터 셋에서 평균 Loss : 0.0198, 평균 Accuracy : 0.9997, 평균 F1 Score :  0.9990\n"
     ]
    },
    {
     "name": "stderr",
     "output_type": "stream",
     "text": [
      "100%|██████████| 19/19 [00:18<00:00,  1.01it/s]\n",
      "  0%|          | 0/56 [00:00<?, ?it/s]"
     ]
    },
    {
     "name": "stdout",
     "output_type": "stream",
     "text": [
      "현재 epoch-2의 test-데이터 셋에서 평균 Loss : 0.0166, 평균 Accuracy : 1.0000, 평균 F1 Score :  1.0000\n"
     ]
    },
    {
     "name": "stderr",
     "output_type": "stream",
     "text": [
      "100%|██████████| 56/56 [01:33<00:00,  1.67s/it]\n",
      "  0%|          | 0/19 [00:00<?, ?it/s]"
     ]
    },
    {
     "name": "stdout",
     "output_type": "stream",
     "text": [
      "현재 epoch-3의 train-데이터 셋에서 평균 Loss : 0.0166, 평균 Accuracy : 0.9998, 평균 F1 Score :  0.9998\n"
     ]
    },
    {
     "name": "stderr",
     "output_type": "stream",
     "text": [
      "100%|██████████| 19/19 [00:18<00:00,  1.02it/s]\n",
      "  0%|          | 0/56 [00:00<?, ?it/s]"
     ]
    },
    {
     "name": "stdout",
     "output_type": "stream",
     "text": [
      "현재 epoch-3의 test-데이터 셋에서 평균 Loss : 0.0147, 평균 Accuracy : 1.0000, 평균 F1 Score :  1.0000\n"
     ]
    },
    {
     "name": "stderr",
     "output_type": "stream",
     "text": [
      "100%|██████████| 56/56 [01:33<00:00,  1.67s/it]\n",
      "  0%|          | 0/19 [00:00<?, ?it/s]"
     ]
    },
    {
     "name": "stdout",
     "output_type": "stream",
     "text": [
      "현재 epoch-4의 train-데이터 셋에서 평균 Loss : 0.0145, 평균 Accuracy : 1.0000, 평균 F1 Score :  1.0000\n"
     ]
    },
    {
     "name": "stderr",
     "output_type": "stream",
     "text": [
      "100%|██████████| 19/19 [00:18<00:00,  1.03it/s]\n",
      "  0%|          | 0/56 [00:00<?, ?it/s]"
     ]
    },
    {
     "name": "stdout",
     "output_type": "stream",
     "text": [
      "현재 epoch-4의 test-데이터 셋에서 평균 Loss : 0.0155, 평균 Accuracy : 0.9998, 평균 F1 Score :  0.9998\n"
     ]
    },
    {
     "name": "stderr",
     "output_type": "stream",
     "text": [
      "100%|██████████| 56/56 [01:32<00:00,  1.66s/it]\n",
      "  0%|          | 0/19 [00:00<?, ?it/s]"
     ]
    },
    {
     "name": "stdout",
     "output_type": "stream",
     "text": [
      "현재 epoch-5의 train-데이터 셋에서 평균 Loss : 0.0125, 평균 Accuracy : 1.0000, 평균 F1 Score :  1.0000\n"
     ]
    },
    {
     "name": "stderr",
     "output_type": "stream",
     "text": [
      "100%|██████████| 19/19 [00:18<00:00,  1.02it/s]\n",
      "  0%|          | 0/56 [00:00<?, ?it/s]"
     ]
    },
    {
     "name": "stdout",
     "output_type": "stream",
     "text": [
      "현재 epoch-5의 test-데이터 셋에서 평균 Loss : 0.0129, 평균 Accuracy : 1.0000, 평균 F1 Score :  1.0000\n"
     ]
    },
    {
     "name": "stderr",
     "output_type": "stream",
     "text": [
      "100%|██████████| 56/56 [01:33<00:00,  1.66s/it]\n",
      "  0%|          | 0/19 [00:00<?, ?it/s]"
     ]
    },
    {
     "name": "stdout",
     "output_type": "stream",
     "text": [
      "현재 epoch-6의 train-데이터 셋에서 평균 Loss : 0.0113, 평균 Accuracy : 1.0000, 평균 F1 Score :  1.0000\n"
     ]
    },
    {
     "name": "stderr",
     "output_type": "stream",
     "text": [
      "100%|██████████| 19/19 [00:18<00:00,  1.03it/s]\n",
      "  0%|          | 0/56 [00:00<?, ?it/s]"
     ]
    },
    {
     "name": "stdout",
     "output_type": "stream",
     "text": [
      "현재 epoch-6의 test-데이터 셋에서 평균 Loss : 0.0127, 평균 Accuracy : 1.0000, 평균 F1 Score :  1.0000\n"
     ]
    },
    {
     "name": "stderr",
     "output_type": "stream",
     "text": [
      "100%|██████████| 56/56 [01:33<00:00,  1.66s/it]\n",
      "  0%|          | 0/19 [00:00<?, ?it/s]"
     ]
    },
    {
     "name": "stdout",
     "output_type": "stream",
     "text": [
      "현재 epoch-7의 train-데이터 셋에서 평균 Loss : 0.0099, 평균 Accuracy : 1.0000, 평균 F1 Score :  1.0000\n"
     ]
    },
    {
     "name": "stderr",
     "output_type": "stream",
     "text": [
      "100%|██████████| 19/19 [00:18<00:00,  1.03it/s]\n",
      "  0%|          | 0/56 [00:00<?, ?it/s]"
     ]
    },
    {
     "name": "stdout",
     "output_type": "stream",
     "text": [
      "현재 epoch-7의 test-데이터 셋에서 평균 Loss : 0.0117, 평균 Accuracy : 1.0000, 평균 F1 Score :  1.0000\n"
     ]
    },
    {
     "name": "stderr",
     "output_type": "stream",
     "text": [
      "100%|██████████| 56/56 [01:32<00:00,  1.66s/it]\n",
      "  0%|          | 0/19 [00:00<?, ?it/s]"
     ]
    },
    {
     "name": "stdout",
     "output_type": "stream",
     "text": [
      "현재 epoch-8의 train-데이터 셋에서 평균 Loss : 0.0088, 평균 Accuracy : 1.0000, 평균 F1 Score :  1.0000\n"
     ]
    },
    {
     "name": "stderr",
     "output_type": "stream",
     "text": [
      "100%|██████████| 19/19 [00:18<00:00,  1.03it/s]\n",
      "  0%|          | 0/56 [00:00<?, ?it/s]"
     ]
    },
    {
     "name": "stdout",
     "output_type": "stream",
     "text": [
      "현재 epoch-8의 test-데이터 셋에서 평균 Loss : 0.0111, 평균 Accuracy : 0.9998, 평균 F1 Score :  0.9996\n"
     ]
    },
    {
     "name": "stderr",
     "output_type": "stream",
     "text": [
      "100%|██████████| 56/56 [01:34<00:00,  1.69s/it]\n",
      "  0%|          | 0/19 [00:00<?, ?it/s]"
     ]
    },
    {
     "name": "stdout",
     "output_type": "stream",
     "text": [
      "현재 epoch-9의 train-데이터 셋에서 평균 Loss : 0.0081, 평균 Accuracy : 1.0000, 평균 F1 Score :  1.0000\n"
     ]
    },
    {
     "name": "stderr",
     "output_type": "stream",
     "text": [
      "100%|██████████| 19/19 [00:19<00:00,  1.00s/it]\n",
      "  0%|          | 0/56 [00:00<?, ?it/s]"
     ]
    },
    {
     "name": "stdout",
     "output_type": "stream",
     "text": [
      "현재 epoch-9의 test-데이터 셋에서 평균 Loss : 0.0118, 평균 Accuracy : 0.9996, 평균 F1 Score :  0.9993\n"
     ]
    },
    {
     "name": "stderr",
     "output_type": "stream",
     "text": [
      "100%|██████████| 56/56 [01:34<00:00,  1.68s/it]\n",
      "  0%|          | 0/19 [00:00<?, ?it/s]"
     ]
    },
    {
     "name": "stdout",
     "output_type": "stream",
     "text": [
      "현재 epoch-10의 train-데이터 셋에서 평균 Loss : 0.0073, 평균 Accuracy : 1.0000, 평균 F1 Score :  1.0000\n"
     ]
    },
    {
     "name": "stderr",
     "output_type": "stream",
     "text": [
      "100%|██████████| 19/19 [00:18<00:00,  1.00it/s]\n",
      "  0%|          | 0/56 [00:00<?, ?it/s]"
     ]
    },
    {
     "name": "stdout",
     "output_type": "stream",
     "text": [
      "현재 epoch-10의 test-데이터 셋에서 평균 Loss : 0.0112, 평균 Accuracy : 0.9998, 평균 F1 Score :  0.9997\n"
     ]
    },
    {
     "name": "stderr",
     "output_type": "stream",
     "text": [
      "100%|██████████| 56/56 [01:34<00:00,  1.68s/it]\n",
      "  0%|          | 0/19 [00:00<?, ?it/s]"
     ]
    },
    {
     "name": "stdout",
     "output_type": "stream",
     "text": [
      "현재 epoch-11의 train-데이터 셋에서 평균 Loss : 0.0067, 평균 Accuracy : 1.0000, 평균 F1 Score :  1.0000\n"
     ]
    },
    {
     "name": "stderr",
     "output_type": "stream",
     "text": [
      "100%|██████████| 19/19 [00:19<00:00,  1.00s/it]\n",
      "  0%|          | 0/56 [00:00<?, ?it/s]"
     ]
    },
    {
     "name": "stdout",
     "output_type": "stream",
     "text": [
      "현재 epoch-11의 test-데이터 셋에서 평균 Loss : 0.0103, 평균 Accuracy : 0.9996, 평균 F1 Score :  0.9984\n"
     ]
    },
    {
     "name": "stderr",
     "output_type": "stream",
     "text": [
      "100%|██████████| 56/56 [01:34<00:00,  1.69s/it]\n",
      "  0%|          | 0/19 [00:00<?, ?it/s]"
     ]
    },
    {
     "name": "stdout",
     "output_type": "stream",
     "text": [
      "현재 epoch-12의 train-데이터 셋에서 평균 Loss : 0.0061, 평균 Accuracy : 1.0000, 평균 F1 Score :  1.0000\n"
     ]
    },
    {
     "name": "stderr",
     "output_type": "stream",
     "text": [
      "100%|██████████| 19/19 [00:19<00:00,  1.01s/it]\n",
      "  0%|          | 0/56 [00:00<?, ?it/s]"
     ]
    },
    {
     "name": "stdout",
     "output_type": "stream",
     "text": [
      "현재 epoch-12의 test-데이터 셋에서 평균 Loss : 0.0101, 평균 Accuracy : 0.9998, 평균 F1 Score :  0.9995\n"
     ]
    },
    {
     "name": "stderr",
     "output_type": "stream",
     "text": [
      "100%|██████████| 56/56 [01:34<00:00,  1.69s/it]\n",
      "  0%|          | 0/19 [00:00<?, ?it/s]"
     ]
    },
    {
     "name": "stdout",
     "output_type": "stream",
     "text": [
      "현재 epoch-13의 train-데이터 셋에서 평균 Loss : 0.0056, 평균 Accuracy : 1.0000, 평균 F1 Score :  1.0000\n"
     ]
    },
    {
     "name": "stderr",
     "output_type": "stream",
     "text": [
      "100%|██████████| 19/19 [00:19<00:00,  1.02s/it]\n",
      "  0%|          | 0/56 [00:00<?, ?it/s]"
     ]
    },
    {
     "name": "stdout",
     "output_type": "stream",
     "text": [
      "현재 epoch-13의 test-데이터 셋에서 평균 Loss : 0.0101, 평균 Accuracy : 0.9994, 평균 F1 Score :  0.9987\n"
     ]
    },
    {
     "name": "stderr",
     "output_type": "stream",
     "text": [
      "100%|██████████| 56/56 [01:34<00:00,  1.69s/it]\n",
      "  0%|          | 0/19 [00:00<?, ?it/s]"
     ]
    },
    {
     "name": "stdout",
     "output_type": "stream",
     "text": [
      "현재 epoch-14의 train-데이터 셋에서 평균 Loss : 0.0051, 평균 Accuracy : 1.0000, 평균 F1 Score :  1.0000\n"
     ]
    },
    {
     "name": "stderr",
     "output_type": "stream",
     "text": [
      "100%|██████████| 19/19 [00:19<00:00,  1.00s/it]\n",
      "  0%|          | 0/56 [00:00<?, ?it/s]"
     ]
    },
    {
     "name": "stdout",
     "output_type": "stream",
     "text": [
      "현재 epoch-14의 test-데이터 셋에서 평균 Loss : 0.0118, 평균 Accuracy : 0.9994, 평균 F1 Score :  0.9991\n"
     ]
    },
    {
     "name": "stderr",
     "output_type": "stream",
     "text": [
      "100%|██████████| 56/56 [01:34<00:00,  1.69s/it]\n",
      "  0%|          | 0/19 [00:00<?, ?it/s]"
     ]
    },
    {
     "name": "stdout",
     "output_type": "stream",
     "text": [
      "현재 epoch-15의 train-데이터 셋에서 평균 Loss : 0.0047, 평균 Accuracy : 1.0000, 평균 F1 Score :  1.0000\n"
     ]
    },
    {
     "name": "stderr",
     "output_type": "stream",
     "text": [
      "100%|██████████| 19/19 [00:19<00:00,  1.01s/it]\n",
      "  0%|          | 0/56 [00:00<?, ?it/s]"
     ]
    },
    {
     "name": "stdout",
     "output_type": "stream",
     "text": [
      "현재 epoch-15의 test-데이터 셋에서 평균 Loss : 0.0089, 평균 Accuracy : 0.9998, 평균 F1 Score :  0.9994\n"
     ]
    },
    {
     "name": "stderr",
     "output_type": "stream",
     "text": [
      "100%|██████████| 56/56 [01:34<00:00,  1.68s/it]\n",
      "  0%|          | 0/19 [00:00<?, ?it/s]"
     ]
    },
    {
     "name": "stdout",
     "output_type": "stream",
     "text": [
      "현재 epoch-16의 train-데이터 셋에서 평균 Loss : 0.0044, 평균 Accuracy : 1.0000, 평균 F1 Score :  1.0000\n"
     ]
    },
    {
     "name": "stderr",
     "output_type": "stream",
     "text": [
      "100%|██████████| 19/19 [00:19<00:00,  1.01s/it]\n",
      "  0%|          | 0/56 [00:00<?, ?it/s]"
     ]
    },
    {
     "name": "stdout",
     "output_type": "stream",
     "text": [
      "현재 epoch-16의 test-데이터 셋에서 평균 Loss : 0.0092, 평균 Accuracy : 0.9996, 평균 F1 Score :  0.9990\n"
     ]
    },
    {
     "name": "stderr",
     "output_type": "stream",
     "text": [
      "100%|██████████| 56/56 [01:34<00:00,  1.69s/it]\n",
      "  0%|          | 0/19 [00:00<?, ?it/s]"
     ]
    },
    {
     "name": "stdout",
     "output_type": "stream",
     "text": [
      "현재 epoch-17의 train-데이터 셋에서 평균 Loss : 0.0041, 평균 Accuracy : 1.0000, 평균 F1 Score :  1.0000\n"
     ]
    },
    {
     "name": "stderr",
     "output_type": "stream",
     "text": [
      "100%|██████████| 19/19 [00:19<00:00,  1.00s/it]\n",
      "  0%|          | 0/56 [00:00<?, ?it/s]"
     ]
    },
    {
     "name": "stdout",
     "output_type": "stream",
     "text": [
      "현재 epoch-17의 test-데이터 셋에서 평균 Loss : 0.0096, 평균 Accuracy : 0.9994, 평균 F1 Score :  0.9988\n"
     ]
    },
    {
     "name": "stderr",
     "output_type": "stream",
     "text": [
      "100%|██████████| 56/56 [01:34<00:00,  1.70s/it]\n",
      "  0%|          | 0/19 [00:00<?, ?it/s]"
     ]
    },
    {
     "name": "stdout",
     "output_type": "stream",
     "text": [
      "현재 epoch-18의 train-데이터 셋에서 평균 Loss : 0.0037, 평균 Accuracy : 1.0000, 평균 F1 Score :  1.0000\n"
     ]
    },
    {
     "name": "stderr",
     "output_type": "stream",
     "text": [
      "100%|██████████| 19/19 [00:18<00:00,  1.01it/s]\n"
     ]
    },
    {
     "name": "stdout",
     "output_type": "stream",
     "text": [
      "Early Stopping!\n",
      "fold3 Stopped\n",
      "Fold 4\n",
      "cuda:0 is using !\n"
     ]
    },
    {
     "name": "stderr",
     "output_type": "stream",
     "text": [
      "100%|██████████| 56/56 [02:11<00:00,  2.35s/it]\n",
      "  0%|          | 0/19 [00:00<?, ?it/s]"
     ]
    },
    {
     "name": "stdout",
     "output_type": "stream",
     "text": [
      "현재 epoch-0의 train-데이터 셋에서 평균 Loss : 0.0081, 평균 Accuracy : 0.9997, 평균 F1 Score :  0.9995\n"
     ]
    },
    {
     "name": "stderr",
     "output_type": "stream",
     "text": [
      "100%|██████████| 19/19 [00:32<00:00,  1.70s/it]\n",
      "  0%|          | 0/56 [00:00<?, ?it/s]"
     ]
    },
    {
     "name": "stdout",
     "output_type": "stream",
     "text": [
      "현재 epoch-0의 test-데이터 셋에서 평균 Loss : 0.0045, 평균 Accuracy : 1.0000, 평균 F1 Score :  1.0000\n"
     ]
    },
    {
     "name": "stderr",
     "output_type": "stream",
     "text": [
      "100%|██████████| 56/56 [01:33<00:00,  1.67s/it]\n",
      "  0%|          | 0/19 [00:00<?, ?it/s]"
     ]
    },
    {
     "name": "stdout",
     "output_type": "stream",
     "text": [
      "현재 epoch-1의 train-데이터 셋에서 평균 Loss : 0.0053, 평균 Accuracy : 1.0000, 평균 F1 Score :  1.0000\n"
     ]
    },
    {
     "name": "stderr",
     "output_type": "stream",
     "text": [
      "100%|██████████| 19/19 [00:18<00:00,  1.00it/s]\n",
      "  0%|          | 0/56 [00:00<?, ?it/s]"
     ]
    },
    {
     "name": "stdout",
     "output_type": "stream",
     "text": [
      "현재 epoch-1의 test-데이터 셋에서 평균 Loss : 0.0039, 평균 Accuracy : 1.0000, 평균 F1 Score :  1.0000\n"
     ]
    },
    {
     "name": "stderr",
     "output_type": "stream",
     "text": [
      "100%|██████████| 56/56 [01:34<00:00,  1.69s/it]\n",
      "  0%|          | 0/19 [00:00<?, ?it/s]"
     ]
    },
    {
     "name": "stdout",
     "output_type": "stream",
     "text": [
      "현재 epoch-2의 train-데이터 셋에서 평균 Loss : 0.0041, 평균 Accuracy : 1.0000, 평균 F1 Score :  1.0000\n"
     ]
    },
    {
     "name": "stderr",
     "output_type": "stream",
     "text": [
      " 79%|███████▉  | 15/19 [00:15<00:04,  1.04s/it]"
     ]
    }
   ],
   "source": [
    "stf = StratifiedKFold(n_splits = 4, shuffle = True, random_state =42)\n",
    "foldperf = {}\n",
    "for fold, (train_idx, valid_idx) in enumerate(stf.split(data_path, target)) :\n",
    "    \n",
    "    print('Fold {}'.format(fold + 1))\n",
    "    target_array = np.array(target)\n",
    "    \n",
    "    dataset_train_Mask = MaskDataset(path_list = data_path[train_idx],\n",
    "                                     label_list = target_array[train_idx],\n",
    "                                     transform = transforms.Compose([\n",
    "                                         Resize((512, 384), Image.BILINEAR),\n",
    "                                         ToTensor(),\n",
    "                                         Normalize(mean = (0.5,0.5,0.5), std = (0.2, 0.2, 0.2)),\n",
    "                                      ]),\n",
    "                                      train = True,\n",
    "                                      )\n",
    "    dataset_valid_Mask = MaskDataset(path_list = data_path[valid_idx],\n",
    "                                     label_list = target_array[valid_idx],\n",
    "                                     transform = transforms.Compose([\n",
    "                                          Resize((512, 384), Image.BILINEAR),\n",
    "                                          ToTensor(),\n",
    "                                          Normalize(mean = (0.5,0.5,0.5), std = (0.2, 0.2, 0.2)),\n",
    "                                      ]),\n",
    "                                      train = True,\n",
    "                                      )\n",
    "    BATCH_SIZE = 256\n",
    "    mask_train_dataloader = torch.utils.data.DataLoader(dataset_train_Mask,\n",
    "                                                        batch_size = BATCH_SIZE,\n",
    "                                                        shuffle = True)\n",
    "    mask_valid_dataloader = torch.utils.data.DataLoader(dataset_valid_Mask,\n",
    "                                                        batch_size = BATCH_SIZE,\n",
    "                                                        shuffle = True)\n",
    "    \n",
    "    device = torch.device('cuda:0' if torch.cuda.is_available() else 'cpu')\n",
    "    print(f'{device} is using !')\n",
    "    sleep(1)\n",
    "    \n",
    "    model = model.to(device)\n",
    "\n",
    "    LEARNING_RATE = 0.0001\n",
    "    NUM_EPOCH = 100\n",
    "\n",
    "    loss_fn = torch.nn.CrossEntropyLoss()\n",
    "    optimizer = torch.optim.Adam(model.parameters(), lr = LEARNING_RATE)\n",
    "\n",
    "    dataloaders = {\n",
    "        'train' : mask_train_dataloader,\n",
    "        'test' : mask_valid_dataloader\n",
    "    }\n",
    "    \n",
    "    history = {'train_loss' : [], 'test_loss' : [],\n",
    "               'train_acc' : [], 'test_acc' : [],\n",
    "               'train_f1' : [], 'test_f1' : []}\n",
    "    \n",
    "    n_epochs_stop = 3\n",
    "    epochs_no_improve = 0\n",
    "    early_stop = False\n",
    "    min_val_loss = np.Inf\n",
    "    \n",
    "    best_test_accuracy = 0\n",
    "    best_test_loss = 9999.\n",
    "    for epoch in range(20) :\n",
    "        for phase in ['train', 'test'] :\n",
    "            running_loss = 0.\n",
    "            running_acc = 0.\n",
    "            running_f1 = 0.\n",
    "            n_iter = 0\n",
    "            \n",
    "            if phase == 'train' :\n",
    "                model.train()\n",
    "            elif phase == 'test' :\n",
    "                model.eval()\n",
    "\n",
    "            for ind, (images, labels) in enumerate(tqdm(dataloaders[phase])) :\n",
    "                images = images.to(device)\n",
    "                labels = labels.to(device)\n",
    "\n",
    "                optimizer.zero_grad()\n",
    "\n",
    "                with torch.set_grad_enabled(phase == 'train') :\n",
    "                    logits = model(images)\n",
    "                    _, preds = torch.max(logits, 1)\n",
    "                    loss = loss_fn(logits, labels)\n",
    "\n",
    "                    if phase == 'train' :\n",
    "                        loss.backward()\n",
    "                        optimizer.step()\n",
    "\n",
    "                running_loss += loss.item() * images.size(0)\n",
    "                running_acc += torch.sum(preds == labels.data)\n",
    "                running_f1 += f1_score(preds.cpu().numpy(), labels.cpu().numpy(), average = 'macro')\n",
    "                n_iter += 1\n",
    "\n",
    "            epoch_loss = running_loss / len(dataloaders[phase].dataset)\n",
    "            epoch_acc = running_acc / len(dataloaders[phase].dataset)\n",
    "            epoch_f1 = running_f1 / n_iter\n",
    "            #epoch_f1_check = running_f1 / len(dataloaders[phase].dataset)\n",
    "            #print('n_iter는 ', n_iter, ' dataset는 :', len(dataloaders[phase].dataset))\n",
    "            #print('n_iter :', epoch_f1, ' dataset :', epoch_f1_check)\n",
    "            \n",
    "            if phase == 'test' :\n",
    "                if epoch_loss < min_val_loss :\n",
    "                    epochs_no_improve = 0\n",
    "                    min_val_loss = epoch_loss\n",
    "                else :\n",
    "                    epochs_no_improve += 1\n",
    "                \n",
    "                if epochs_no_improve == n_epochs_stop :\n",
    "                    print('Early Stopping!')\n",
    "                    early_stop = True\n",
    "                    break\n",
    "            \n",
    "            if phase == 'train' :\n",
    "                history['train_loss'].append(epoch_loss)\n",
    "                history['train_acc'].append(epoch_acc)\n",
    "                history['train_f1'].append(epoch_f1)\n",
    "            elif phase == 'test' :\n",
    "                history['test_loss'].append(epoch_loss)\n",
    "                history['test_acc'].append(epoch_acc)\n",
    "                history['test_f1'].append(epoch_f1)\n",
    "\n",
    "            print(f\"현재 epoch-{epoch}의 {phase}-데이터 셋에서 평균 Loss : {epoch_loss:.4f}, 평균 Accuracy : {epoch_acc:.4f}, 평균 F1 Score : {epoch_f1: .4f}\")\n",
    "            #if phase == \"test\" and best_test_accuracy < epoch_acc: # phase가 test일 때, best accuracy 계산\n",
    "            #    best_test_accuracy = epoch_acc\n",
    "            #if phase == \"test\" and best_test_loss > epoch_loss: # phase가 test일 때, best loss 계산\n",
    "            #    best_test_loss = epoch_loss\n",
    "    \n",
    "        if early_stop :\n",
    "            print(f'fold{fold+1} Stopped')\n",
    "            break\n",
    "    foldperf['fold{}'.format(fold+1)] = history \n",
    "    \n",
    "    #print(\"학습 종료!\")\n",
    "    #print(f\"최고 accuracy : {best_test_accuracy}, 최고 낮은 loss : {best_test_loss}\")"
   ]
  },
  {
   "cell_type": "code",
   "execution_count": 96,
   "id": "4e27bab0-aeb8-4f91-a379-6eda85cf0cb8",
   "metadata": {},
   "outputs": [],
   "source": [
    "torch.save(model, '/opt/ml/code/model/data-modify-resnet18-freezen-more-two-layer-linear-SKFold4-earlystopping.pt')"
   ]
  },
  {
   "cell_type": "code",
   "execution_count": 97,
   "id": "3cf95d56-229f-49a0-8ad3-d4f52db3fd90",
   "metadata": {},
   "outputs": [],
   "source": [
    "# 테스트 데이터셋 폴더 경로를 지정해주세요.\n",
    "test_dir = '/opt/ml/input/data/eval'"
   ]
  },
  {
   "cell_type": "code",
   "execution_count": 98,
   "id": "d60a301d-abc9-45a1-a3d5-c389c53b28b4",
   "metadata": {},
   "outputs": [],
   "source": [
    "# meta 데이터와 이미지 경로를 불러옵니다.\n",
    "submission = pd.read_csv(os.path.join(test_dir, 'info.csv'))\n",
    "image_dir = os.path.join(test_dir, 'images')"
   ]
  },
  {
   "cell_type": "code",
   "execution_count": 99,
   "id": "e4f35cc8-5c45-4fdd-8bd4-f45b7084488c",
   "metadata": {},
   "outputs": [],
   "source": [
    "class TestDataset(Dataset):\n",
    "    def __init__(self, img_paths, transform):\n",
    "        self.img_paths = img_paths\n",
    "        self.transform = transform\n",
    "\n",
    "    def __getitem__(self, index):\n",
    "        image = Image.open(self.img_paths[index])\n",
    "\n",
    "        if self.transform:\n",
    "            image = self.transform(image)\n",
    "        return image\n",
    "\n",
    "    def __len__(self):\n",
    "        return len(self.img_paths)"
   ]
  },
  {
   "cell_type": "code",
   "execution_count": 100,
   "id": "9d1bbfa8-254a-425f-8fe2-c8dfb9de46be",
   "metadata": {},
   "outputs": [],
   "source": [
    "# Test Dataset 클래스 객체를 생성하고 DataLoader를 만듭니다.\n",
    "image_paths = [os.path.join(image_dir, img_id) for img_id in submission.ImageID]\n",
    "transform = transforms.Compose([\n",
    "    Resize((512, 384), Image.BILINEAR),\n",
    "    ToTensor(),\n",
    "    Normalize(mean=(0.5, 0.5, 0.5), std=(0.2, 0.2, 0.2)),\n",
    "])\n",
    "dataset = TestDataset(image_paths, transform)\n",
    "\n",
    "loader = DataLoader(\n",
    "    dataset,\n",
    "    shuffle=False\n",
    ")"
   ]
  },
  {
   "cell_type": "code",
   "execution_count": 101,
   "id": "9c03befc-8995-43f2-b180-80f44d573ab2",
   "metadata": {},
   "outputs": [
    {
     "data": {
      "text/plain": [
       "ResNet(\n",
       "  (conv1): Conv2d(3, 64, kernel_size=(7, 7), stride=(2, 2), padding=(3, 3), bias=False)\n",
       "  (bn1): BatchNorm2d(64, eps=1e-05, momentum=0.1, affine=True, track_running_stats=True)\n",
       "  (relu): ReLU(inplace=True)\n",
       "  (maxpool): MaxPool2d(kernel_size=3, stride=2, padding=1, dilation=1, ceil_mode=False)\n",
       "  (layer1): Sequential(\n",
       "    (0): BasicBlock(\n",
       "      (conv1): Conv2d(64, 64, kernel_size=(3, 3), stride=(1, 1), padding=(1, 1), bias=False)\n",
       "      (bn1): BatchNorm2d(64, eps=1e-05, momentum=0.1, affine=True, track_running_stats=True)\n",
       "      (relu): ReLU(inplace=True)\n",
       "      (conv2): Conv2d(64, 64, kernel_size=(3, 3), stride=(1, 1), padding=(1, 1), bias=False)\n",
       "      (bn2): BatchNorm2d(64, eps=1e-05, momentum=0.1, affine=True, track_running_stats=True)\n",
       "    )\n",
       "    (1): BasicBlock(\n",
       "      (conv1): Conv2d(64, 64, kernel_size=(3, 3), stride=(1, 1), padding=(1, 1), bias=False)\n",
       "      (bn1): BatchNorm2d(64, eps=1e-05, momentum=0.1, affine=True, track_running_stats=True)\n",
       "      (relu): ReLU(inplace=True)\n",
       "      (conv2): Conv2d(64, 64, kernel_size=(3, 3), stride=(1, 1), padding=(1, 1), bias=False)\n",
       "      (bn2): BatchNorm2d(64, eps=1e-05, momentum=0.1, affine=True, track_running_stats=True)\n",
       "    )\n",
       "  )\n",
       "  (layer2): Sequential(\n",
       "    (0): BasicBlock(\n",
       "      (conv1): Conv2d(64, 128, kernel_size=(3, 3), stride=(2, 2), padding=(1, 1), bias=False)\n",
       "      (bn1): BatchNorm2d(128, eps=1e-05, momentum=0.1, affine=True, track_running_stats=True)\n",
       "      (relu): ReLU(inplace=True)\n",
       "      (conv2): Conv2d(128, 128, kernel_size=(3, 3), stride=(1, 1), padding=(1, 1), bias=False)\n",
       "      (bn2): BatchNorm2d(128, eps=1e-05, momentum=0.1, affine=True, track_running_stats=True)\n",
       "      (downsample): Sequential(\n",
       "        (0): Conv2d(64, 128, kernel_size=(1, 1), stride=(2, 2), bias=False)\n",
       "        (1): BatchNorm2d(128, eps=1e-05, momentum=0.1, affine=True, track_running_stats=True)\n",
       "      )\n",
       "    )\n",
       "    (1): BasicBlock(\n",
       "      (conv1): Conv2d(128, 128, kernel_size=(3, 3), stride=(1, 1), padding=(1, 1), bias=False)\n",
       "      (bn1): BatchNorm2d(128, eps=1e-05, momentum=0.1, affine=True, track_running_stats=True)\n",
       "      (relu): ReLU(inplace=True)\n",
       "      (conv2): Conv2d(128, 128, kernel_size=(3, 3), stride=(1, 1), padding=(1, 1), bias=False)\n",
       "      (bn2): BatchNorm2d(128, eps=1e-05, momentum=0.1, affine=True, track_running_stats=True)\n",
       "    )\n",
       "  )\n",
       "  (layer3): Sequential(\n",
       "    (0): BasicBlock(\n",
       "      (conv1): Conv2d(128, 256, kernel_size=(3, 3), stride=(2, 2), padding=(1, 1), bias=False)\n",
       "      (bn1): BatchNorm2d(256, eps=1e-05, momentum=0.1, affine=True, track_running_stats=True)\n",
       "      (relu): ReLU(inplace=True)\n",
       "      (conv2): Conv2d(256, 256, kernel_size=(3, 3), stride=(1, 1), padding=(1, 1), bias=False)\n",
       "      (bn2): BatchNorm2d(256, eps=1e-05, momentum=0.1, affine=True, track_running_stats=True)\n",
       "      (downsample): Sequential(\n",
       "        (0): Conv2d(128, 256, kernel_size=(1, 1), stride=(2, 2), bias=False)\n",
       "        (1): BatchNorm2d(256, eps=1e-05, momentum=0.1, affine=True, track_running_stats=True)\n",
       "      )\n",
       "    )\n",
       "    (1): BasicBlock(\n",
       "      (conv1): Conv2d(256, 256, kernel_size=(3, 3), stride=(1, 1), padding=(1, 1), bias=False)\n",
       "      (bn1): BatchNorm2d(256, eps=1e-05, momentum=0.1, affine=True, track_running_stats=True)\n",
       "      (relu): ReLU(inplace=True)\n",
       "      (conv2): Conv2d(256, 256, kernel_size=(3, 3), stride=(1, 1), padding=(1, 1), bias=False)\n",
       "      (bn2): BatchNorm2d(256, eps=1e-05, momentum=0.1, affine=True, track_running_stats=True)\n",
       "    )\n",
       "  )\n",
       "  (layer4): Sequential(\n",
       "    (0): BasicBlock(\n",
       "      (conv1): Conv2d(256, 512, kernel_size=(3, 3), stride=(2, 2), padding=(1, 1), bias=False)\n",
       "      (bn1): BatchNorm2d(512, eps=1e-05, momentum=0.1, affine=True, track_running_stats=True)\n",
       "      (relu): ReLU(inplace=True)\n",
       "      (conv2): Conv2d(512, 512, kernel_size=(3, 3), stride=(1, 1), padding=(1, 1), bias=False)\n",
       "      (bn2): BatchNorm2d(512, eps=1e-05, momentum=0.1, affine=True, track_running_stats=True)\n",
       "      (downsample): Sequential(\n",
       "        (0): Conv2d(256, 512, kernel_size=(1, 1), stride=(2, 2), bias=False)\n",
       "        (1): BatchNorm2d(512, eps=1e-05, momentum=0.1, affine=True, track_running_stats=True)\n",
       "      )\n",
       "    )\n",
       "    (1): BasicBlock(\n",
       "      (conv1): Conv2d(512, 512, kernel_size=(3, 3), stride=(1, 1), padding=(1, 1), bias=False)\n",
       "      (bn1): BatchNorm2d(512, eps=1e-05, momentum=0.1, affine=True, track_running_stats=True)\n",
       "      (relu): ReLU(inplace=True)\n",
       "      (conv2): Conv2d(512, 512, kernel_size=(3, 3), stride=(1, 1), padding=(1, 1), bias=False)\n",
       "      (bn2): BatchNorm2d(512, eps=1e-05, momentum=0.1, affine=True, track_running_stats=True)\n",
       "    )\n",
       "  )\n",
       "  (avgpool): AdaptiveAvgPool2d(output_size=(1, 1))\n",
       "  (fc): Linear(in_features=512, out_features=128, bias=True)\n",
       "  (relu1): ReLU(inplace=True)\n",
       "  (drop1): Dropout(p=0.2, inplace=False)\n",
       "  (fc2): Linear(in_features=128, out_features=32, bias=True)\n",
       "  (relu2): ReLU(inplace=True)\n",
       "  (drop2): Dropout(p=0.2, inplace=False)\n",
       "  (fc3): Linear(in_features=32, out_features=18, bias=True)\n",
       ")"
      ]
     },
     "execution_count": 101,
     "metadata": {},
     "output_type": "execute_result"
    }
   ],
   "source": [
    "device = torch.device('cuda')\n",
    "model = torch.load('/opt/ml/code/model/data-modify-resnet18-freezen-more-two-layer-linear-SKFold4-earlystopping.pt').to(device)\n",
    "model.eval()"
   ]
  },
  {
   "cell_type": "code",
   "execution_count": 102,
   "id": "c4b8a9f1-38e6-4dc3-8034-2a8b2808db15",
   "metadata": {},
   "outputs": [
    {
     "name": "stderr",
     "output_type": "stream",
     "text": [
      "100%|██████████| 12600/12600 [02:06<00:00, 99.62it/s] \n"
     ]
    }
   ],
   "source": [
    "# 모델이 테스트 데이터셋을 예측하고 결과를 저장합니다.\n",
    "all_predictions = []\n",
    "for images in tqdm(loader):\n",
    "    with torch.no_grad():\n",
    "        images = images.to(device)\n",
    "        pred = model(images)\n",
    "        pred = pred.argmax(dim=-1)\n",
    "        all_predictions.extend(pred.cpu().numpy())\n",
    "submission['ans'] = all_predictions"
   ]
  },
  {
   "cell_type": "code",
   "execution_count": 103,
   "id": "b05da715-d35a-4700-8733-1e60f779a878",
   "metadata": {},
   "outputs": [
    {
     "name": "stdout",
     "output_type": "stream",
     "text": [
      "test inference is done!\n"
     ]
    }
   ],
   "source": [
    "# 제출할 파일을 저장합니다.\n",
    "submission.to_csv(os.path.join(test_dir, 'submission_fifth.csv'), index=False)\n",
    "print('test inference is done!')"
   ]
  },
  {
   "cell_type": "code",
   "execution_count": null,
   "id": "9c882adb-cf54-4cd3-8e9b-636417122028",
   "metadata": {},
   "outputs": [],
   "source": []
  }
 ],
 "metadata": {
  "kernelspec": {
   "display_name": "Python 3 (ipykernel)",
   "language": "python",
   "name": "python3"
  },
  "language_info": {
   "codemirror_mode": {
    "name": "ipython",
    "version": 3
   },
   "file_extension": ".py",
   "mimetype": "text/x-python",
   "name": "python",
   "nbconvert_exporter": "python",
   "pygments_lexer": "ipython3",
   "version": "3.8.5"
  }
 },
 "nbformat": 4,
 "nbformat_minor": 5
}
